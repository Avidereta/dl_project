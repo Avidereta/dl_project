{
 "cells": [
  {
   "cell_type": "markdown",
   "metadata": {},
   "source": [
    "# Imports"
   ]
  },
  {
   "cell_type": "code",
   "execution_count": 1,
   "metadata": {
    "collapsed": false
   },
   "outputs": [],
   "source": [
    "from scipy.misc import imread\n",
    "from sklearn.linear_model import LogisticRegression\n",
    "\n",
    "import sklearn\n",
    "import time\n",
    "\n",
    "import numpy as np\n",
    "#import matplotlib.pyplot as plt\n",
    "import os\n",
    "import pickle\n",
    "import itertools\n",
    "\n",
    "#%matplotlib inline\n",
    "%load_ext autoreload\n",
    "%autoreload 2\n",
    "\n",
    "import matplotlib\n",
    "matplotlib.use(\"Pdf\")\n",
    "from matplotlib import pyplot as plt\n",
    "%matplotlib inline\n",
    "from IPython.display import set_matplotlib_formats\n",
    "set_matplotlib_formats('png', 'pdf')"
   ]
  },
  {
   "cell_type": "code",
   "execution_count": 124,
   "metadata": {
    "collapsed": false
   },
   "outputs": [
    {
     "name": "stdout",
     "output_type": "stream",
     "text": [
      "CPU times: user 16.2 s, sys: 4.31 s, total: 20.5 s\n",
      "Wall time: 20.5 s\n"
     ]
    }
   ],
   "source": [
    "%%time\n",
    "\n",
    "with open('data_basic.pkl', 'rb') as f:\n",
    "    _, _, y_train, _, _, y_val, _, _, y_test = pickle.load(f)"
   ]
  },
  {
   "cell_type": "code",
   "execution_count": 2,
   "metadata": {
    "collapsed": false
   },
   "outputs": [
    {
     "name": "stdout",
     "output_type": "stream",
     "text": [
      "CPU times: user 20.2 s, sys: 5.15 s, total: 25.3 s\n",
      "Wall time: 25.4 s\n"
     ]
    }
   ],
   "source": [
    "%%time\n",
    "\n",
    "with open('data_rem_road.pkl', 'rb') as f:\n",
    "    _, _, y_train, _, _, y_val, _, _, y_test = pickle.load(f)"
   ]
  },
  {
   "cell_type": "code",
   "execution_count": 8,
   "metadata": {
    "collapsed": false
   },
   "outputs": [],
   "source": [
    "%%time\n",
    "\n",
    "with open('data_huge.pkl', 'rb') as f:\n",
    "    _, _, y_train, _, _, y_val, _, _, y_test = pickle.load(f)"
   ]
  },
  {
   "cell_type": "code",
   "execution_count": 158,
   "metadata": {
    "collapsed": false
   },
   "outputs": [
    {
     "name": "stdout",
     "output_type": "stream",
     "text": [
      "CPU times: user 1min 51s, sys: 34.2 s, total: 2min 25s\n",
      "Wall time: 2min 26s\n"
     ]
    }
   ],
   "source": [
    "%%time\n",
    "\n",
    "with open('data_huge_rem_road.pkl', 'rb') as f:\n",
    "    _, _, y_train, _, _, y_val, _, _, y_test = pickle.load(f)"
   ]
  },
  {
   "cell_type": "code",
   "execution_count": 159,
   "metadata": {
    "collapsed": false
   },
   "outputs": [
    {
     "data": {
      "text/plain": [
       "(2975, (18432,))"
      ]
     },
     "execution_count": 159,
     "metadata": {},
     "output_type": "execute_result"
    }
   ],
   "source": [
    "len(f1_train), f1_train[0].shape"
   ]
  },
  {
   "cell_type": "markdown",
   "metadata": {},
   "source": [
    "Without road"
   ]
  },
  {
   "cell_type": "code",
   "execution_count": 3,
   "metadata": {
    "collapsed": false
   },
   "outputs": [
    {
     "name": "stdout",
     "output_type": "stream",
     "text": [
      "CPU times: user 12.4 s, sys: 1.6 s, total: 14 s\n",
      "Wall time: 14.1 s\n"
     ]
    }
   ],
   "source": [
    "%%time\n",
    "\n",
    "with open('features_rem_road.pkl', 'rb') as f:\n",
    "    f1_train, f1_val, f1_test, f2_train, f2_val, f2_test = pickle.load(f)"
   ]
  },
  {
   "cell_type": "code",
   "execution_count": 160,
   "metadata": {
    "collapsed": false
   },
   "outputs": [
    {
     "name": "stdout",
     "output_type": "stream",
     "text": [
      "CPU times: user 10min 50s, sys: 6.05 s, total: 10min 56s\n",
      "Wall time: 10min 56s\n"
     ]
    }
   ],
   "source": [
    "%%time\n",
    "\n",
    "with open('features_huge_rem_road.pkl', 'rb') as f:\n",
    "    f1_train, f1_val, f1_test, f2_train, f2_val, f2_test = pickle.load(f)"
   ]
  },
  {
   "cell_type": "markdown",
   "metadata": {},
   "source": [
    "With road"
   ]
  },
  {
   "cell_type": "code",
   "execution_count": 11,
   "metadata": {
    "collapsed": true
   },
   "outputs": [],
   "source": [
    "with open('features_basic.pkl', 'rb') as f:\n",
    "    f1_train, f1_val, f1_test, f2_train, f2_val, f2_test = pickle.load(f)"
   ]
  },
  {
   "cell_type": "code",
   "execution_count": null,
   "metadata": {
    "collapsed": true
   },
   "outputs": [],
   "source": [
    "%%time\n",
    "\n",
    "with open('features_huge.pkl', 'rb') as f:\n",
    "    f1_train, f2_train = pickle.load(f)"
   ]
  },
  {
   "cell_type": "code",
   "execution_count": 4,
   "metadata": {
    "collapsed": false
   },
   "outputs": [
    {
     "data": {
      "text/plain": [
       "(array([  16.,   49.,   88.,  163.,  109.,  125.,  120.,  113.,  127.,\n",
       "         106.,  132.,  134.,  115.,  195.,  295.,  368.,  252.,  131.,\n",
       "         125.,  212.]),\n",
       " array([  14. ,   19.6,   25.2,   30.8,   36.4,   42. ,   47.6,   53.2,\n",
       "          58.8,   64.4,   70. ,   75.6,   81.2,   86.8,   92.4,   98. ,\n",
       "         103.6,  109.2,  114.8,  120.4,  126. ]),\n",
       " <a list of 20 Patch objects>)"
      ]
     },
     "execution_count": 4,
     "metadata": {},
     "output_type": "execute_result"
    },
    {
     "data": {
      "application/pdf": "[encoded data removed]",
      "image/png": "[encoded data removed]",
      "text/plain": [
       "<matplotlib.figure.Figure at 0x4f33d90>"
      ]
     },
     "metadata": {},
     "output_type": "display_data"
    }
   ],
   "source": [
    "plt.hist(y_train, bins=20)"
   ]
  },
  {
   "cell_type": "code",
   "execution_count": 5,
   "metadata": {
    "collapsed": false
   },
   "outputs": [
    {
     "data": {
      "text/plain": [
       "(2975, array([86, 93, 43, ..., 39, 97, 95], dtype=uint8))"
      ]
     },
     "execution_count": 5,
     "metadata": {},
     "output_type": "execute_result"
    }
   ],
   "source": [
    "len(y_train), y_train"
   ]
  },
  {
   "cell_type": "code",
   "execution_count": 6,
   "metadata": {
    "collapsed": true
   },
   "outputs": [],
   "source": [
    "bins = [np.percentile(y_train, 0),\n",
    "        np.percentile(y_train, 25),\n",
    "        np.percentile(y_train, 50),\n",
    "        np.percentile(y_train, 75),\n",
    "        np.percentile(y_train, 100) + 1]"
   ]
  },
  {
   "cell_type": "code",
   "execution_count": 7,
   "metadata": {
    "collapsed": false
   },
   "outputs": [
    {
     "data": {
      "text/plain": [
       "[14.0, 57.0, 89.0, 103.0, 127.0]"
      ]
     },
     "execution_count": 7,
     "metadata": {},
     "output_type": "execute_result"
    }
   ],
   "source": [
    "bins"
   ]
  },
  {
   "cell_type": "code",
   "execution_count": 11,
   "metadata": {
    "collapsed": true
   },
   "outputs": [],
   "source": [
    "binary_bins = [np.percentile(y_train, 0),\n",
    "               np.percentile(y_train, 50),\n",
    "               np.percentile(y_train, 100) + 1]"
   ]
  },
  {
   "cell_type": "code",
   "execution_count": 12,
   "metadata": {
    "collapsed": false
   },
   "outputs": [
    {
     "data": {
      "text/plain": [
       "[0.0, 2.0, 4.0]"
      ]
     },
     "execution_count": 12,
     "metadata": {},
     "output_type": "execute_result"
    }
   ],
   "source": [
    "binary_bins"
   ]
  },
  {
   "cell_type": "code",
   "execution_count": 13,
   "metadata": {
    "collapsed": true
   },
   "outputs": [],
   "source": [
    "y_train_binary = np.digitize(y_train, binary_bins) - 1\n",
    "y_val_binary = np.digitize(y_val, binary_bins) - 1\n",
    "y_test_binary = np.digitize(y_test, binary_bins) - 1"
   ]
  },
  {
   "cell_type": "code",
   "execution_count": 8,
   "metadata": {
    "collapsed": false
   },
   "outputs": [],
   "source": [
    "y_train = np.digitize(y_train, bins) - 1\n",
    "y_val = np.digitize(y_val, bins) - 1\n",
    "y_test = np.digitize(y_test, bins) - 1"
   ]
  },
  {
   "cell_type": "code",
   "execution_count": 9,
   "metadata": {
    "collapsed": false
   },
   "outputs": [
    {
     "data": {
      "text/plain": [
       "(array([ 739.,    0.,    0.,  715.,    0.,    0.,  721.,    0.,    0.,  800.]),\n",
       " array([ 0. ,  0.3,  0.6,  0.9,  1.2,  1.5,  1.8,  2.1,  2.4,  2.7,  3. ]),\n",
       " <a list of 10 Patch objects>)"
      ]
     },
     "execution_count": 9,
     "metadata": {},
     "output_type": "execute_result"
    },
    {
     "data": {
      "application/pdf": "[encoded data removed]",
      "image/png": "[encoded data removed]",
      "text/plain": [
       "<matplotlib.figure.Figure at 0x2a86b710>"
      ]
     },
     "metadata": {},
     "output_type": "display_data"
    }
   ],
   "source": [
    "plt.hist(y_train)"
   ]
  },
  {
   "cell_type": "code",
   "execution_count": 14,
   "metadata": {
    "collapsed": false
   },
   "outputs": [
    {
     "data": {
      "text/plain": [
       "(array([ 1454.,     0.,     0.,     0.,     0.,     0.,     0.,     0.,\n",
       "            0.,  1521.]),\n",
       " array([ 0. ,  0.1,  0.2,  0.3,  0.4,  0.5,  0.6,  0.7,  0.8,  0.9,  1. ]),\n",
       " <a list of 10 Patch objects>)"
      ]
     },
     "execution_count": 14,
     "metadata": {},
     "output_type": "execute_result"
    },
    {
     "data": {
      "application/pdf": "[encoded data removed]",
      "image/png": "[encoded data removed]",
      "text/plain": [
       "<matplotlib.figure.Figure at 0x18b56210>"
      ]
     },
     "metadata": {},
     "output_type": "display_data"
    }
   ],
   "source": [
    "plt.hist(y_train_binary)"
   ]
  },
  {
   "cell_type": "markdown",
   "metadata": {},
   "source": [
    "# Binary classification"
   ]
  },
  {
   "cell_type": "code",
   "execution_count": 15,
   "metadata": {
    "collapsed": false
   },
   "outputs": [
    {
     "data": {
      "text/plain": [
       "0.878"
      ]
     },
     "execution_count": 15,
     "metadata": {},
     "output_type": "execute_result"
    }
   ],
   "source": [
    "clf = LogisticRegression(C=0.01, penalty='l1')\n",
    "clf.fit(f1_train, y_train_binary).score(f1_val, y_val_binary)"
   ]
  },
  {
   "cell_type": "markdown",
   "metadata": {},
   "source": [
    "# Without the road"
   ]
  },
  {
   "cell_type": "code",
   "execution_count": 16,
   "metadata": {
    "collapsed": false
   },
   "outputs": [
    {
     "data": {
      "text/plain": [
       "0.68000000000000005"
      ]
     },
     "execution_count": 16,
     "metadata": {},
     "output_type": "execute_result"
    }
   ],
   "source": [
    "clf = LogisticRegression(C=0.01, penalty='l1')\n",
    "clf.fit(f1_train, y_train).score(f1_val, y_val)"
   ]
  },
  {
   "cell_type": "code",
   "execution_count": 17,
   "metadata": {
    "collapsed": true
   },
   "outputs": [],
   "source": [
    "from sklearn.preprocessing import Normalizer\n",
    "\n",
    "normalizer = Normalizer().fit(f1_train)\n",
    "f1_train_normalized = normalizer.transform(f1_train)\n",
    "f1_val_normalized = normalizer.transform(f1_val)"
   ]
  },
  {
   "cell_type": "code",
   "execution_count": 18,
   "metadata": {
    "collapsed": false
   },
   "outputs": [
    {
     "data": {
      "text/plain": [
       "0.67000000000000004"
      ]
     },
     "execution_count": 18,
     "metadata": {},
     "output_type": "execute_result"
    }
   ],
   "source": [
    "from sklearn.svm import LinearSVC\n",
    "\n",
    "clf = LinearSVC(C=1, penalty='l2', loss='squared_hinge', dual=True, multi_class='crammer_singer')\n",
    "clf.fit(f1_train_normalized, y_train).score(f1_val_normalized, y_val)"
   ]
  },
  {
   "cell_type": "code",
   "execution_count": 55,
   "metadata": {
    "collapsed": false
   },
   "outputs": [
    {
     "data": {
      "text/plain": [
       "0.67000000000000004"
      ]
     },
     "execution_count": 55,
     "metadata": {},
     "output_type": "execute_result"
    }
   ],
   "source": [
    "clf = LogisticRegression(C=8, penalty='l1')\n",
    "clf.fit(f1_train_normalized, y_train).score(f1_val_normalized, y_val)"
   ]
  },
  {
   "cell_type": "code",
   "execution_count": 19,
   "metadata": {
    "collapsed": false
   },
   "outputs": [
    {
     "data": {
      "text/plain": [
       "0.66800000000000004"
      ]
     },
     "execution_count": 19,
     "metadata": {},
     "output_type": "execute_result"
    }
   ],
   "source": [
    "from sklearn.svm import SVC\n",
    "\n",
    "clf = SVC(C=1, kernel='rbf', gamma=1)\n",
    "clf.fit(f1_train_normalized, y_train).score(f1_val_normalized, y_val)"
   ]
  },
  {
   "cell_type": "code",
   "execution_count": 61,
   "metadata": {
    "collapsed": false
   },
   "outputs": [
    {
     "data": {
      "text/plain": [
       "0.67400000000000004"
      ]
     },
     "execution_count": 61,
     "metadata": {},
     "output_type": "execute_result"
    }
   ],
   "source": [
    "clf = SVC(C=1, kernel='poly', gamma=1, degree=2)\n",
    "clf.fit(f1_train_normalized, y_train).score(f1_val_normalized, y_val)"
   ]
  },
  {
   "cell_type": "code",
   "execution_count": 46,
   "metadata": {
    "collapsed": false
   },
   "outputs": [],
   "source": [
    "from sklearn.decomposition import PCA\n",
    "\n",
    "pca = PCA(n_components=1000).fit(f1_train_normalized)\n",
    "\n",
    "f1_train_pca = pca.transform(f1_train_normalized)\n",
    "f1_val_pca = pca.transform(f1_val_normalized)"
   ]
  },
  {
   "cell_type": "code",
   "execution_count": 45,
   "metadata": {
    "collapsed": false
   },
   "outputs": [
    {
     "data": {
      "text/plain": [
       "0.59799999999999998"
      ]
     },
     "execution_count": 45,
     "metadata": {},
     "output_type": "execute_result"
    }
   ],
   "source": [
    "from sklearn.ensemble import GradientBoostingClassifier\n",
    "\n",
    "GradientBoostingClassifier(n_estimators=200).fit(f1_train_pca, y_train).score(f1_val_pca, y_val)"
   ]
  },
  {
   "cell_type": "code",
   "execution_count": 20,
   "metadata": {
    "collapsed": false
   },
   "outputs": [
    {
     "name": "stderr",
     "output_type": "stream",
     "text": [
      "/usr/lib64/python2.7/site-packages/sklearn/cross_validation.py:69: DeprecationWarning: The indices parameter is deprecated and will be removed (assumed True) in 0.17\n",
      "  stacklevel=1)\n"
     ]
    },
    {
     "data": {
      "text/plain": [
       "Stacking(base_estimators=[(<bound method LogisticRegression.fit of LogisticRegression(C=0.01, class_weight=None, dual=False, fit_intercept=True,\n",
       "          intercept_scaling=1, max_iter=100, multi_class='ovr',\n",
       "          penalty='l1', random_state=None, solver='liblinear', tol=0.0001,\n",
       "          verbose=0)>, <f...on <lambda> at 0x151ed5f0>), (<function <lambda> at 0x151ed578>, <function <lambda> at 0x151ed1b8>)],\n",
       "     extend_meta=False, meta_fitter=None, n_folds=5)"
      ]
     },
     "execution_count": 20,
     "metadata": {},
     "output_type": "execute_result"
    }
   ],
   "source": [
    "from stacking import Stacking\n",
    "\n",
    "basic_wildfowl = Stacking(base_estimators=[\n",
    "        (LogisticRegression(C=0.01, penalty='l1').fit,\n",
    "         lambda clf, X: clf.predict(X)),\n",
    "        (lambda X, y: LinearSVC(C=1, penalty='l2', loss='squared_hinge',\n",
    "                                dual=True, multi_class='crammer_singer').fit(normalizer.transform(X), y),\n",
    "         lambda clf, X: clf.predict(normalizer.transform(X))),\n",
    "        (lambda X, y: LogisticRegression(C=8, penalty='l1').fit(normalizer.transform(X), y),\n",
    "         lambda clf, X: clf.predict(normalizer.transform(X))),\n",
    "        (lambda X, y: SVC(C=1, kernel='rbf', gamma=1).fit(normalizer.transform(X), y),\n",
    "         lambda clf, X: clf.predict(normalizer.transform(X))),\n",
    "        (lambda X, y: SVC(C=1, kernel='poly', gamma=1, degree=2).fit(normalizer.transform(X), y),\n",
    "         lambda clf, X: clf.predict(normalizer.transform(X)))],\n",
    "                    n_folds=5, extend_meta=False)\n",
    "basic_wildfowl.fit(np.array(f1_train), y_train)"
   ]
  },
  {
   "cell_type": "code",
   "execution_count": 77,
   "metadata": {
    "collapsed": false
   },
   "outputs": [
    {
     "data": {
      "text/plain": [
       "0.68999999999999995"
      ]
     },
     "execution_count": 77,
     "metadata": {},
     "output_type": "execute_result"
    }
   ],
   "source": [
    "basic_wildfowl.fit_meta(SVC(C=5, kernel='poly', degree=2, gamma=1.).fit).score(np.array(f1_val), y_val)"
   ]
  },
  {
   "cell_type": "code",
   "execution_count": 80,
   "metadata": {
    "collapsed": false
   },
   "outputs": [
    {
     "data": {
      "text/plain": [
       "0.68999999999999995"
      ]
     },
     "execution_count": 80,
     "metadata": {},
     "output_type": "execute_result"
    }
   ],
   "source": [
    "basic_wildfowl.fit_meta(SVC(C=1, kernel='poly', degree=2, gamma=1.).fit).score(np.array(f1_val), y_val)"
   ]
  },
  {
   "cell_type": "code",
   "execution_count": 81,
   "metadata": {
    "collapsed": false
   },
   "outputs": [
    {
     "data": {
      "text/plain": [
       "0.68999999999999995"
      ]
     },
     "execution_count": 81,
     "metadata": {},
     "output_type": "execute_result"
    }
   ],
   "source": [
    "basic_wildfowl.fit_meta(SVC(C=10, kernel='poly', degree=2, gamma=1.).fit).score(np.array(f1_val), y_val)"
   ]
  },
  {
   "cell_type": "code",
   "execution_count": 82,
   "metadata": {
    "collapsed": false
   },
   "outputs": [
    {
     "data": {
      "text/plain": [
       "0.69799999999999995"
      ]
     },
     "execution_count": 82,
     "metadata": {},
     "output_type": "execute_result"
    }
   ],
   "source": [
    "basic_wildfowl.fit_meta(SVC(C=1, kernel='rbf', gamma=1.).fit).score(np.array(f1_val), y_val)"
   ]
  },
  {
   "cell_type": "code",
   "execution_count": 100,
   "metadata": {
    "collapsed": false
   },
   "outputs": [
    {
     "data": {
      "text/plain": [
       "0.70399999999999996"
      ]
     },
     "execution_count": 100,
     "metadata": {},
     "output_type": "execute_result"
    }
   ],
   "source": [
    "basic_wildfowl.fit_meta(SVC(C=1, kernel='rbf', gamma=0.5).fit).score(np.array(f1_val), y_val)"
   ]
  },
  {
   "cell_type": "code",
   "execution_count": 109,
   "metadata": {
    "collapsed": false
   },
   "outputs": [
    {
     "data": {
      "text/plain": [
       "0.70199999999999996"
      ]
     },
     "execution_count": 109,
     "metadata": {},
     "output_type": "execute_result"
    }
   ],
   "source": [
    "basic_wildfowl.fit_meta(SVC(C=1, kernel='rbf', gamma=0.3).fit).score(np.array(f1_val), y_val)"
   ]
  },
  {
   "cell_type": "code",
   "execution_count": 21,
   "metadata": {
    "collapsed": false
   },
   "outputs": [
    {
     "data": {
      "text/plain": [
       "0.70799999999999996"
      ]
     },
     "execution_count": 21,
     "metadata": {},
     "output_type": "execute_result"
    }
   ],
   "source": [
    "basic_wildfowl.fit_meta(SVC(C=1, kernel='rbf', gamma=0.2).fit).score(np.array(f1_val), y_val)"
   ]
  },
  {
   "cell_type": "code",
   "execution_count": 105,
   "metadata": {
    "collapsed": false
   },
   "outputs": [
    {
     "data": {
      "text/plain": [
       "0.70399999999999996"
      ]
     },
     "execution_count": 105,
     "metadata": {},
     "output_type": "execute_result"
    }
   ],
   "source": [
    "basic_wildfowl.fit_meta(SVC(C=1, kernel='rbf', gamma=0.1).fit).score(np.array(f1_val), y_val)"
   ]
  },
  {
   "cell_type": "code",
   "execution_count": 83,
   "metadata": {
    "collapsed": false
   },
   "outputs": [
    {
     "data": {
      "text/plain": [
       "0.69599999999999995"
      ]
     },
     "execution_count": 83,
     "metadata": {},
     "output_type": "execute_result"
    }
   ],
   "source": [
    "basic_wildfowl.fit_meta(SVC(C=5, kernel='rbf', gamma=1.).fit).score(np.array(f1_val), y_val)"
   ]
  },
  {
   "cell_type": "code",
   "execution_count": 84,
   "metadata": {
    "collapsed": false
   },
   "outputs": [
    {
     "data": {
      "text/plain": [
       "0.69399999999999995"
      ]
     },
     "execution_count": 84,
     "metadata": {},
     "output_type": "execute_result"
    }
   ],
   "source": [
    "basic_wildfowl.fit_meta(SVC(C=0.5, kernel='rbf', gamma=1.).fit).score(np.array(f1_val), y_val)"
   ]
  },
  {
   "cell_type": "code",
   "execution_count": 85,
   "metadata": {
    "collapsed": false
   },
   "outputs": [
    {
     "data": {
      "text/plain": [
       "0.67000000000000004"
      ]
     },
     "execution_count": 85,
     "metadata": {},
     "output_type": "execute_result"
    }
   ],
   "source": [
    "basic_wildfowl.fit_meta(LogisticRegression(C=1, penalty='l1').fit).score(np.array(f1_val), y_val)"
   ]
  },
  {
   "cell_type": "code",
   "execution_count": 89,
   "metadata": {
    "collapsed": false
   },
   "outputs": [
    {
     "data": {
      "text/plain": [
       "0.67000000000000004"
      ]
     },
     "execution_count": 89,
     "metadata": {},
     "output_type": "execute_result"
    }
   ],
   "source": [
    "basic_wildfowl.fit_meta(LogisticRegression(C=10, penalty='l2').fit).score(np.array(f1_val), y_val)"
   ]
  },
  {
   "cell_type": "code",
   "execution_count": 92,
   "metadata": {
    "collapsed": false
   },
   "outputs": [
    {
     "data": {
      "text/plain": [
       "0.69599999999999995"
      ]
     },
     "execution_count": 92,
     "metadata": {},
     "output_type": "execute_result"
    }
   ],
   "source": [
    "basic_wildfowl.fit_meta(RandomForestClassifier(n_estimators=100).fit).score(np.array(f1_val), y_val)"
   ]
  },
  {
   "cell_type": "code",
   "execution_count": 94,
   "metadata": {
    "collapsed": false
   },
   "outputs": [
    {
     "data": {
      "text/plain": [
       "0.68999999999999995"
      ]
     },
     "execution_count": 94,
     "metadata": {},
     "output_type": "execute_result"
    }
   ],
   "source": [
    "basic_wildfowl.fit_meta(RandomForestClassifier(n_estimators=50, max_depth=10).fit).score(np.array(f1_val), y_val)"
   ]
  },
  {
   "cell_type": "code",
   "execution_count": 95,
   "metadata": {
    "collapsed": false
   },
   "outputs": [
    {
     "data": {
      "text/plain": [
       "0.69599999999999995"
      ]
     },
     "execution_count": 95,
     "metadata": {},
     "output_type": "execute_result"
    }
   ],
   "source": [
    "basic_wildfowl.fit_meta(RandomForestClassifier(n_estimators=50, max_depth=20).fit).score(np.array(f1_val), y_val)"
   ]
  },
  {
   "cell_type": "code",
   "execution_count": 78,
   "metadata": {
    "collapsed": false
   },
   "outputs": [
    {
     "data": {
      "text/plain": [
       "0.69399999999999995"
      ]
     },
     "execution_count": 78,
     "metadata": {},
     "output_type": "execute_result"
    }
   ],
   "source": [
    "basic_wildfowl.fit_meta(GradientBoostingClassifier(n_estimators=200).fit).score(np.array(f1_val), y_val)"
   ]
  },
  {
   "cell_type": "code",
   "execution_count": null,
   "metadata": {
    "collapsed": true
   },
   "outputs": [],
   "source": [
    "from sklearn.ensemble import AdaBoostClassifier"
   ]
  },
  {
   "cell_type": "code",
   "execution_count": 101,
   "metadata": {
    "collapsed": false
   },
   "outputs": [
    {
     "data": {
      "text/plain": [
       "0.67000000000000004"
      ]
     },
     "execution_count": 101,
     "metadata": {},
     "output_type": "execute_result"
    }
   ],
   "source": [
    "basic_wildfowl.fit_meta(AdaBoostClassifier(n_estimators=30).fit).score(np.array(f1_val), y_val)"
   ]
  },
  {
   "cell_type": "code",
   "execution_count": 96,
   "metadata": {
    "collapsed": false
   },
   "outputs": [
    {
     "data": {
      "text/plain": [
       "0.68799999999999994"
      ]
     },
     "execution_count": 96,
     "metadata": {},
     "output_type": "execute_result"
    }
   ],
   "source": [
    "basic_wildfowl.fit_meta(AdaBoostClassifier(n_estimators=50).fit).score(np.array(f1_val), y_val)"
   ]
  },
  {
   "cell_type": "code",
   "execution_count": 97,
   "metadata": {
    "collapsed": false
   },
   "outputs": [
    {
     "data": {
      "text/plain": [
       "0.68000000000000005"
      ]
     },
     "execution_count": 97,
     "metadata": {},
     "output_type": "execute_result"
    }
   ],
   "source": [
    "basic_wildfowl.fit_meta(AdaBoostClassifier(n_estimators=100).fit).score(np.array(f1_val), y_val)"
   ]
  },
  {
   "cell_type": "code",
   "execution_count": 79,
   "metadata": {
    "collapsed": false
   },
   "outputs": [
    {
     "data": {
      "text/plain": [
       "0.88369747899159667"
      ]
     },
     "execution_count": 79,
     "metadata": {},
     "output_type": "execute_result"
    }
   ],
   "source": [
    "basic_wildfowl.score(np.array(f1_train), y_train)"
   ]
  },
  {
   "cell_type": "code",
   "execution_count": 144,
   "metadata": {
    "collapsed": false
   },
   "outputs": [
    {
     "name": "stderr",
     "output_type": "stream",
     "text": [
      "/usr/lib64/python2.7/site-packages/sklearn/cross_validation.py:69: DeprecationWarning: The indices parameter is deprecated and will be removed (assumed True) in 0.17\n",
      "  stacklevel=1)\n"
     ]
    },
    {
     "data": {
      "text/plain": [
       "Stacking(base_estimators=[(<bound method LogisticRegression.fit of LogisticRegression(C=0.01, class_weight=None, dual=False, fit_intercept=True,\n",
       "          intercept_scaling=1, max_iter=100, multi_class='ovr',\n",
       "          penalty='l1', random_state=None, solver='liblinear', tol=0.0001,\n",
       "          verbose=0)>, <f...on <lambda> at 0x3a2548c0>), (<function <lambda> at 0x2ae631b8>, <function <lambda> at 0x2ae635f0>)],\n",
       "     extend_meta=False, meta_fitter=None, n_folds=5)"
      ]
     },
     "execution_count": 144,
     "metadata": {},
     "output_type": "execute_result"
    }
   ],
   "source": [
    "from stacking import Stacking\n",
    "\n",
    "binary_wildfowl = Stacking(base_estimators=[\n",
    "        (LogisticRegression(C=0.01, penalty='l1').fit,\n",
    "         lambda clf, X: clf.predict(X)),\n",
    "        (lambda X, y: LinearSVC(C=1, penalty='l2', loss='squared_hinge',\n",
    "                                dual=True, multi_class='crammer_singer').fit(normalizer.transform(X), y),\n",
    "         lambda clf, X: clf.predict(normalizer.transform(X))),\n",
    "        (lambda X, y: LogisticRegression(C=8, penalty='l1').fit(normalizer.transform(X), y),\n",
    "         lambda clf, X: clf.predict(normalizer.transform(X))),\n",
    "        (lambda X, y: SVC(C=1, kernel='rbf', gamma=1).fit(normalizer.transform(X), y),\n",
    "         lambda clf, X: clf.predict(normalizer.transform(X))),\n",
    "        (lambda X, y: SVC(C=1, kernel='poly', gamma=1, degree=2).fit(normalizer.transform(X), y),\n",
    "         lambda clf, X: clf.predict(normalizer.transform(X)))],\n",
    "                    n_folds=5, extend_meta=False)\n",
    "binary_wildfowl.fit(np.array(f1_train), y_train_binary)"
   ]
  },
  {
   "cell_type": "code",
   "execution_count": 157,
   "metadata": {
    "collapsed": false
   },
   "outputs": [
    {
     "data": {
      "text/plain": [
       "0.88400000000000001"
      ]
     },
     "execution_count": 157,
     "metadata": {},
     "output_type": "execute_result"
    }
   ],
   "source": [
    "binary_wildfowl.fit_meta(LogisticRegression().fit).score(np.array(f1_val), y_val_binary)"
   ]
  },
  {
   "cell_type": "code",
   "execution_count": 23,
   "metadata": {
    "collapsed": false
   },
   "outputs": [
    {
     "name": "stderr",
     "output_type": "stream",
     "text": [
      "/usr/lib64/python2.7/site-packages/sklearn/cross_validation.py:69: DeprecationWarning: The indices parameter is deprecated and will be removed (assumed True) in 0.17\n",
      "  stacklevel=1)\n"
     ]
    }
   ],
   "source": [
    "from stacking import Stacking\n",
    "\n",
    "basic_wildfowl = Stacking(base_estimators=[\n",
    "        (LogisticRegression(C=0.01, penalty='l1').fit,\n",
    "         lambda clf, X: clf.predict(X)),\n",
    "        (lambda X, y: LinearSVC(C=1, penalty='l2', loss='squared_hinge',\n",
    "                                dual=True, multi_class='crammer_singer').fit(normalizer.transform(X), y),\n",
    "         lambda clf, X: clf.predict(normalizer.transform(X))),\n",
    "        (lambda X, y: LogisticRegression(C=8, penalty='l1').fit(normalizer.transform(X), y),\n",
    "         lambda clf, X: clf.predict(normalizer.transform(X))),\n",
    "        (lambda X, y: SVC(C=1, kernel='rbf', gamma=1).fit(normalizer.transform(X), y),\n",
    "         lambda clf, X: clf.predict(normalizer.transform(X))),\n",
    "        (lambda X, y: SVC(C=1, kernel='poly', gamma=1, degree=2).fit(normalizer.transform(X), y),\n",
    "         lambda clf, X: clf.predict(normalizer.transform(X)))],\n",
    "                          meta_fitter=SVC(C=1, kernel='rbf', gamma=0.2).fit,\n",
    "                          n_folds=5, extend_meta=False)\n",
    "y_predicted = basic_wildfowl.fit(np.array(f1_train), y_train).predict(np.array(f1_val))"
   ]
  },
  {
   "cell_type": "code",
   "execution_count": 24,
   "metadata": {
    "collapsed": false
   },
   "outputs": [
    {
     "name": "stderr",
     "output_type": "stream",
     "text": [
      "/usr/lib64/python2.7/site-packages/matplotlib/collections.py:590: FutureWarning: elementwise comparison failed; returning scalar instead, but in the future will perform elementwise comparison\n",
      "  if self._edgecolors == str('face'):\n"
     ]
    },
    {
     "data": {
      "application/pdf": "[encoded data removed]",
      "image/png": "[encoded data removed]",
      "text/plain": [
       "<matplotlib.figure.Figure at 0xee2c510>"
      ]
     },
     "metadata": {},
     "output_type": "display_data"
    }
   ],
   "source": [
    "from sklearn.metrics import confusion_matrix\n",
    "\n",
    "def plot_confusion_matrix(cm, title='Confusion matrix', cmap=plt.cm.Blues):\n",
    "    plt.figure(figsize=(5, 4))\n",
    "    plt.imshow(cm, interpolation='nearest', cmap=cmap)\n",
    "    plt.title(title, size=20)\n",
    "    plt.colorbar()\n",
    "    labels = ['vfar', 'far', 'close', 'vclose']\n",
    "    tick_marks = np.arange(len(labels))\n",
    "    plt.xticks(tick_marks, labels, rotation=45, size=12)\n",
    "    plt.yticks(tick_marks, labels, size=12)\n",
    "    plt.tight_layout()\n",
    "    plt.ylabel('True label', size=15)\n",
    "    plt.xlabel('Predicted label', size=15)\n",
    "    plt.savefig('cm.pdf')\n",
    "    plt.show()\n",
    "\n",
    "plot_confusion_matrix(confusion_matrix(y_val, y_predicted))"
   ]
  },
  {
   "cell_type": "code",
   "execution_count": 25,
   "metadata": {
    "collapsed": false
   },
   "outputs": [
    {
     "name": "stdout",
     "output_type": "stream",
     "text": [
      "Confusion matrix, without normalization\n",
      "[[ 0.88  0.11  0.01  0.  ]\n",
      " [ 0.15  0.76  0.05  0.04]\n",
      " [ 0.03  0.27  0.35  0.34]\n",
      " [ 0.04  0.1   0.14  0.72]]\n"
     ]
    },
    {
     "data": {
      "text/plain": [
       "<matplotlib.figure.Figure at 0x18b410d0>"
      ]
     },
     "metadata": {},
     "output_type": "display_data"
    },
    {
     "data": {
      "application/pdf": "[encoded data removed]",
      "image/png": "[encoded data removed]",
      "text/plain": [
       "<matplotlib.figure.Figure at 0x18b41450>"
      ]
     },
     "metadata": {},
     "output_type": "display_data"
    }
   ],
   "source": [
    "A = confusion_matrix(y_val, y_predicted)\n",
    "np.set_printoptions(precision=2)\n",
    "print('Confusion matrix, without normalization')\n",
    "cm = A.astype(float) / A.sum(1, keepdims=True)\n",
    "print(cm)\n",
    "plt.figure()\n",
    "plot_confusion_matrix(cm)"
   ]
  },
  {
   "cell_type": "markdown",
   "metadata": {},
   "source": [
    "# With the road"
   ]
  },
  {
   "cell_type": "code",
   "execution_count": 32,
   "metadata": {
    "collapsed": false
   },
   "outputs": [
    {
     "data": {
      "text/plain": [
       "0.68000000000000005"
      ]
     },
     "execution_count": 32,
     "metadata": {},
     "output_type": "execute_result"
    }
   ],
   "source": [
    "clf = LogisticRegression(C=0.01, penalty='l1')\n",
    "clf.fit(f1_train, y_train).score(f1_val, y_val)"
   ]
  },
  {
   "cell_type": "code",
   "execution_count": 38,
   "metadata": {
    "collapsed": false
   },
   "outputs": [
    {
     "data": {
      "text/plain": [
       "0.67800000000000005"
      ]
     },
     "execution_count": 38,
     "metadata": {},
     "output_type": "execute_result"
    }
   ],
   "source": [
    "clf = LogisticRegression(C=0.1, penalty='l1')\n",
    "clf.fit(np.hstack((f1_train, f2_train)), y_train).score(np.hstack((f1_val, f2_val)), y_val)"
   ]
  },
  {
   "cell_type": "markdown",
   "metadata": {},
   "source": [
    "### Boosting"
   ]
  },
  {
   "cell_type": "code",
   "execution_count": 40,
   "metadata": {
    "collapsed": false
   },
   "outputs": [
    {
     "data": {
      "text/plain": [
       "(18432,)"
      ]
     },
     "execution_count": 40,
     "metadata": {},
     "output_type": "execute_result"
    }
   ],
   "source": [
    "f1_train[0].shape"
   ]
  },
  {
   "cell_type": "code",
   "execution_count": 54,
   "metadata": {
    "collapsed": true
   },
   "outputs": [],
   "source": [
    "from sklearn.preprocessing import Normalizer\n",
    "\n",
    "normalizer = Normalizer().fit(f1_train)\n",
    "f1_train_normalized = normalizer.transform(f1_train)\n",
    "f1_val_normalized = normalizer.transform(f1_val)"
   ]
  },
  {
   "cell_type": "code",
   "execution_count": 56,
   "metadata": {
    "collapsed": false
   },
   "outputs": [],
   "source": [
    "from sklearn.decomposition import PCA\n",
    "\n",
    "pca = PCA(n_components=300).fit(f1_train_normalized)"
   ]
  },
  {
   "cell_type": "code",
   "execution_count": 57,
   "metadata": {
    "collapsed": true
   },
   "outputs": [],
   "source": [
    "f1_train_pca = pca.transform(f1_train_normalized)\n",
    "f1_val_pca = pca.transform(f1_val_normalized)"
   ]
  },
  {
   "cell_type": "code",
   "execution_count": 64,
   "metadata": {
    "collapsed": false
   },
   "outputs": [
    {
     "data": {
      "text/plain": [
       "0.59799999999999998"
      ]
     },
     "execution_count": 64,
     "metadata": {},
     "output_type": "execute_result"
    }
   ],
   "source": [
    "from sklearn.ensemble import GradientBoostingClassifier\n",
    "\n",
    "GradientBoostingClassifier(n_estimators=200).fit(f1_train_pca, y_train).score(f1_val_pca, y_val)"
   ]
  },
  {
   "cell_type": "markdown",
   "metadata": {},
   "source": [
    "# With the road + segmentation"
   ]
  },
  {
   "cell_type": "code",
   "execution_count": 65,
   "metadata": {
    "collapsed": false
   },
   "outputs": [
    {
     "data": {
      "text/plain": [
       "0.67600000000000005"
      ]
     },
     "execution_count": 65,
     "metadata": {},
     "output_type": "execute_result"
    }
   ],
   "source": [
    "clf = LogisticRegression(C=0.005, penalty='l1')\n",
    "clf.fit(np.hstack((np.array(f1_train), np.array(f2_train))), y_train).score(np.hstack((np.array(f1_val), np.array(f2_val))), y_val)"
   ]
  },
  {
   "cell_type": "markdown",
   "metadata": {
    "collapsed": false
   },
   "source": [
    "# Road deleted"
   ]
  },
  {
   "cell_type": "code",
   "execution_count": 65,
   "metadata": {
    "collapsed": false
   },
   "outputs": [
    {
     "data": {
      "text/plain": [
       "0.68000000000000005"
      ]
     },
     "execution_count": 65,
     "metadata": {},
     "output_type": "execute_result"
    }
   ],
   "source": [
    "clf = LogisticRegression(C=0.01, penalty='l1')\n",
    "clf.fit(np.array(f1_train), y_train).score(np.array(f1_val), y_val)"
   ]
  },
  {
   "cell_type": "code",
   "execution_count": 67,
   "metadata": {
    "collapsed": false
   },
   "outputs": [],
   "source": [
    "y_pred = clf.predict(np.array(f1_val))"
   ]
  },
  {
   "cell_type": "code",
   "execution_count": 69,
   "metadata": {
    "collapsed": false
   },
   "outputs": [
    {
     "data": {
      "text/plain": [
       "array([[137,  10,   0,   2],\n",
       "       [ 29,  78,  15,   6],\n",
       "       [  8,  13,  40,  32],\n",
       "       [  9,   9,  27,  85]])"
      ]
     },
     "execution_count": 69,
     "metadata": {},
     "output_type": "execute_result"
    }
   ],
   "source": [
    "from sklearn.metrics import confusion_matrix\n",
    "\n",
    "confusion_matrix(y_val, y_pred)"
   ]
  },
  {
   "cell_type": "code",
   "execution_count": 72,
   "metadata": {
    "collapsed": false
   },
   "outputs": [
    {
     "data": {
      "text/plain": [
       "array([2, 1, 1, 1, 0, 0, 0, 0, 1, 1, 0, 2, 0, 0, 2, 0, 0, 0, 0, 3, 3, 0, 3,\n",
       "       2, 3, 0, 3, 0, 2, 2, 3, 1, 1, 3, 2, 0, 0, 3, 3, 2, 0, 0, 0, 1, 1, 0,\n",
       "       3, 0, 0, 1, 1, 0, 1, 3, 0, 0, 0, 0, 0, 3, 0, 2, 3, 3, 1, 0, 3, 0, 0,\n",
       "       0, 0, 0, 0, 0, 3, 0, 1, 1, 3, 3, 3, 1, 1, 3, 2, 3, 3, 0, 3, 1, 3, 3,\n",
       "       3, 0, 0, 3, 2, 3, 2, 1, 3, 1, 3, 2, 0, 0, 0, 3, 3, 0, 2, 0, 3, 3, 0,\n",
       "       1, 1, 1, 3, 0, 3, 0, 0, 0, 3, 3, 3, 0, 3, 0, 0, 1, 0, 0, 0, 1, 1, 3,\n",
       "       3, 0, 3, 0, 0, 1, 3, 0, 3, 0, 3, 3, 0, 3, 3, 1, 3, 0, 0, 3, 3, 0, 0,\n",
       "       0, 0, 3, 0, 1, 1, 1, 0, 3, 0, 0, 0, 3, 3, 3, 3, 3, 3, 3, 0, 0, 0, 0,\n",
       "       0, 2, 0, 1, 0, 0, 0, 3, 1, 3, 0, 0, 0, 3, 0, 0, 0, 0, 3, 0, 0, 3, 1,\n",
       "       1, 0, 0, 3, 0, 3, 0, 0, 0, 0, 0, 0, 2, 3, 0, 1, 1, 1, 1, 0, 1, 3, 0,\n",
       "       0, 0, 3, 1, 0, 0, 1, 0, 3, 3, 3, 0, 3, 3, 0, 3, 3, 0, 0, 1, 0, 0, 3,\n",
       "       1, 0, 1, 2, 2, 1, 3, 1, 3, 3, 3, 0, 0, 2, 1, 2, 1, 0, 0, 0, 0, 2, 1,\n",
       "       1, 1, 2, 2, 2, 2, 0, 0, 2, 3, 3, 2, 2, 3, 2, 0, 1, 1, 1, 1, 1, 1, 0,\n",
       "       2, 0, 2, 3, 0, 1, 1, 0, 3, 0, 1, 0, 3, 3, 2, 3, 3, 2, 3, 3, 2, 1, 3,\n",
       "       2, 2, 1, 1, 1, 0, 2, 0, 0, 1, 2, 2, 3, 3, 1, 1, 1, 0, 0, 1, 2, 3, 2,\n",
       "       2, 1, 1, 0, 2, 0, 0, 3, 1, 0, 2, 1, 3, 0, 0, 1, 3, 3, 0, 0, 0, 3, 0,\n",
       "       2, 3, 0, 1, 2, 2, 2, 0, 0, 0, 2, 2, 1, 1, 3, 2, 2, 3, 2, 1, 2, 2, 2,\n",
       "       1, 0, 2, 0, 1, 3, 0, 1, 1, 2, 1, 2, 0, 1, 2, 2, 3, 3, 1, 2, 1, 2, 1,\n",
       "       2, 0, 0, 0, 2, 1, 0, 3, 2, 1, 3, 3, 0, 1, 0, 0, 1, 0, 2, 2, 1, 0, 2,\n",
       "       1, 2, 0, 3, 0, 3, 1, 0, 2, 1, 0, 2, 1, 1, 3, 0, 3, 0, 0, 2, 3, 1, 3,\n",
       "       0, 0, 0, 1, 0, 2, 1, 1, 2, 3, 1, 0, 0, 1, 3, 2, 3, 1, 3, 1, 2, 0, 0,\n",
       "       1, 1, 2, 2, 3, 0, 3, 2, 1, 0, 2, 0, 0, 0, 1, 3, 2])"
      ]
     },
     "execution_count": 72,
     "metadata": {},
     "output_type": "execute_result"
    }
   ],
   "source": [
    "y_pred"
   ]
  },
  {
   "cell_type": "markdown",
   "metadata": {},
   "source": [
    "#### Random Projections"
   ]
  },
  {
   "cell_type": "code",
   "execution_count": 16,
   "metadata": {
    "collapsed": false
   },
   "outputs": [],
   "source": [
    "n = np.array(f1_train).shape[1]\n",
    "k = n / 3\n",
    "P = np.random.randn(n, k) / np.sqrt(k)\n",
    "\n",
    "f1_train_p = np.array(f1_train).dot(P)\n",
    "f1_val_p = np.array(f1_val).dot(P)"
   ]
  },
  {
   "cell_type": "code",
   "execution_count": 21,
   "metadata": {
    "collapsed": false
   },
   "outputs": [
    {
     "data": {
      "text/plain": [
       "0.66000000000000003"
      ]
     },
     "execution_count": 21,
     "metadata": {},
     "output_type": "execute_result"
    }
   ],
   "source": [
    "clf = LogisticRegression(C=0.01, penalty='l1')\n",
    "clf.fit(f1_train_p, y_train).score(f1_val_p, y_val)"
   ]
  },
  {
   "cell_type": "code",
   "execution_count": 26,
   "metadata": {
    "collapsed": true
   },
   "outputs": [],
   "source": [
    "from sklearn.preprocessing import Normalizer\n",
    "\n",
    "normalizer = Normalizer().fit(f1_train)\n",
    "f1_train_normalized = normalizer.transform(f1_train)\n",
    "f1_val_normalized = normalizer.transform(f1_val)"
   ]
  },
  {
   "cell_type": "code",
   "execution_count": 62,
   "metadata": {
    "collapsed": false
   },
   "outputs": [
    {
     "data": {
      "text/plain": [
       "0.67000000000000004"
      ]
     },
     "execution_count": 62,
     "metadata": {},
     "output_type": "execute_result"
    }
   ],
   "source": [
    "clf = LogisticRegression(C=15, penalty='l2')\n",
    "clf.fit(f1_train_normalized, y_train).score(f1_val_normalized, y_val)"
   ]
  },
  {
   "cell_type": "code",
   "execution_count": 64,
   "metadata": {
    "collapsed": false
   },
   "outputs": [
    {
     "data": {
      "text/plain": [
       "0.67000000000000004"
      ]
     },
     "execution_count": 64,
     "metadata": {},
     "output_type": "execute_result"
    }
   ],
   "source": [
    "from stacking import Stacking, Classifier\n",
    "from sklearn.cross_validation import KFold\n",
    "\n",
    "def logit_proba_fitter(X, y):\n",
    "    classifier = LogisticRegression(C=15, penalty='l2').fit(X, y)\n",
    "    return Classifier(classifier.predict_proba)\n",
    "\n",
    "def logit_fitter(X, y):\n",
    "    classifier = LinearSVC(C=0.5).fit(X, y)\n",
    "    return Classifier(classifier.predict)\n",
    "\n",
    "logit_logit = Stacking(base_fitter=logit_proba_fitter, meta_fitter=logit_fitter,\n",
    "                       split=lambda I: list(KFold(n=I.size, n_folds=10, shuffle=True)))\n",
    "logit_logit.fit(f1_train_normalized, y_train).score(f1_val_normalized, y_val)"
   ]
  },
  {
   "cell_type": "code",
   "execution_count": 60,
   "metadata": {
    "collapsed": false
   },
   "outputs": [
    {
     "data": {
      "text/plain": [
       "0.67600000000000005"
      ]
     },
     "execution_count": 60,
     "metadata": {},
     "output_type": "execute_result"
    }
   ],
   "source": [
    "from sklearn.svm import LinearSVC\n",
    "\n",
    "clf = LinearSVC(C=0.5)\n",
    "clf.fit(f1_train_normalized, y_train).score(f1_val_normalized, y_val)"
   ]
  },
  {
   "cell_type": "markdown",
   "metadata": {},
   "source": [
    "# Road deleted + segmentation"
   ]
  },
  {
   "cell_type": "code",
   "execution_count": 103,
   "metadata": {
    "collapsed": false
   },
   "outputs": [
    {
     "data": {
      "text/plain": [
       "0.66600000000000004"
      ]
     },
     "execution_count": 103,
     "metadata": {},
     "output_type": "execute_result"
    }
   ],
   "source": [
    "clf = LogisticRegression(C=0.001, penalty='l1')\n",
    "clf.fit(np.hstack((np.array(f1_train), np.array(f2_train))), y_train).score(np.hstack((np.array(f1_val), np.array(f2_val))), y_val)"
   ]
  },
  {
   "cell_type": "markdown",
   "metadata": {},
   "source": [
    "# Extra train dataset"
   ]
  },
  {
   "cell_type": "code",
   "execution_count": 161,
   "metadata": {
    "collapsed": false
   },
   "outputs": [
    {
     "data": {
      "text/plain": [
       "(array([    2.,    16.,   207.,   755.,  1324.,  1458.,  1633.,  1312.,\n",
       "         1345.,  1370.,  1734.,  1487.,  1421.,  1543.,  1626.,  1843.,\n",
       "         1958.,   818.,   455.,   665.]),\n",
       " array([   0. ,    6.3,   12.6,   18.9,   25.2,   31.5,   37.8,   44.1,\n",
       "          50.4,   56.7,   63. ,   69.3,   75.6,   81.9,   88.2,   94.5,\n",
       "         100.8,  107.1,  113.4,  119.7,  126. ]),\n",
       " <a list of 20 Patch objects>)"
      ]
     },
     "execution_count": 161,
     "metadata": {},
     "output_type": "execute_result"
    },
    {
     "data": {
      "application/pdf": "[encoded data removed]",
      "image/png": "[encoded data removed]",
      "text/plain": [
       "<matplotlib.figure.Figure at 0x55ce6250>"
      ]
     },
     "metadata": {},
     "output_type": "display_data"
    }
   ],
   "source": [
    "plt.hist(y_train, bins=20)"
   ]
  },
  {
   "cell_type": "code",
   "execution_count": 162,
   "metadata": {
    "collapsed": true
   },
   "outputs": [],
   "source": [
    "bins_extra = [np.percentile(y_train, 0),\n",
    "        np.percentile(y_train, 25),\n",
    "        np.percentile(y_train, 50),\n",
    "        np.percentile(y_train, 75),\n",
    "        np.percentile(y_train, 100) + 1]"
   ]
  },
  {
   "cell_type": "code",
   "execution_count": 163,
   "metadata": {
    "collapsed": false
   },
   "outputs": [
    {
     "data": {
      "text/plain": [
       "[0.0, 46.0, 71.0, 94.0, 127.0]"
      ]
     },
     "execution_count": 163,
     "metadata": {},
     "output_type": "execute_result"
    }
   ],
   "source": [
    "bins_extra"
   ]
  },
  {
   "cell_type": "code",
   "execution_count": 164,
   "metadata": {
    "collapsed": true
   },
   "outputs": [],
   "source": [
    "y_train = np.digitize(y_train, bins_extra) - 1\n",
    "y_val = np.digitize(y_val, bins_extra) - 1\n",
    "y_test = np.digitize(y_test, bins_extra) - 1"
   ]
  },
  {
   "cell_type": "code",
   "execution_count": 165,
   "metadata": {
    "collapsed": false
   },
   "outputs": [
    {
     "data": {
      "text/plain": [
       "(array([ 5612.,     0.,     0.,  5779.,     0.,     0.,  5556.,     0.,\n",
       "            0.,  6025.]),\n",
       " array([ 0. ,  0.3,  0.6,  0.9,  1.2,  1.5,  1.8,  2.1,  2.4,  2.7,  3. ]),\n",
       " <a list of 10 Patch objects>)"
      ]
     },
     "execution_count": 165,
     "metadata": {},
     "output_type": "execute_result"
    },
    {
     "data": {
      "application/pdf": "[encoded data removed]",
      "image/png": "[encoded data removed]",
      "text/plain": [
       "<matplotlib.figure.Figure at 0x28599f50>"
      ]
     },
     "metadata": {},
     "output_type": "display_data"
    }
   ],
   "source": [
    "plt.hist(y_train)"
   ]
  },
  {
   "cell_type": "code",
   "execution_count": null,
   "metadata": {
    "collapsed": false
   },
   "outputs": [
    {
     "data": {
      "text/plain": [
       "0.70199999999999996"
      ]
     },
     "execution_count": 167,
     "metadata": {},
     "output_type": "execute_result"
    }
   ],
   "source": [
    "clf = LogisticRegression(C=0.01, penalty='l1')\n",
    "clf.fit(f1_train, y_train).score(f1_val, y_val)"
   ]
  },
  {
   "cell_type": "markdown",
   "metadata": {},
   "source": [
    "# Network deleted road, classes"
   ]
  },
  {
   "cell_type": "code",
   "execution_count": 37,
   "metadata": {
    "collapsed": false,
    "scrolled": true
   },
   "outputs": [
    {
     "name": "stdout",
     "output_type": "stream",
     "text": [
      "[W, b, W, b, W, b, W, b, W, b, W, b]\n",
      "Epoch 1 of 30 took 1.998s\n",
      "  training loss (in-iteration):\t\t3749.619600\n",
      "  train accuracy:\t\t28.59 %\n",
      "  validation accuracy:\t\t26.00 %\n",
      "Epoch 2 of 30 took 2.015s\n",
      "  training loss (in-iteration):\t\t3.113019\n",
      "  train accuracy:\t\t32.24 %\n",
      "  validation accuracy:\t\t46.60 %\n",
      "Epoch 3 of 30 took 1.982s\n",
      "  training loss (in-iteration):\t\t2.176733\n",
      "  train accuracy:\t\t45.90 %\n",
      "  validation accuracy:\t\t49.40 %\n",
      "Epoch 4 of 30 took 2.010s\n",
      "  training loss (in-iteration):\t\t1.896570\n",
      "  train accuracy:\t\t52.72 %\n",
      "  validation accuracy:\t\t58.00 %\n",
      "Epoch 5 of 30 took 1.978s\n",
      "  training loss (in-iteration):\t\t1.765641\n",
      "  train accuracy:\t\t58.38 %\n",
      "  validation accuracy:\t\t52.20 %\n",
      "Epoch 6 of 30 took 2.000s\n",
      "  training loss (in-iteration):\t\t1.671071\n",
      "  train accuracy:\t\t63.17 %\n",
      "  validation accuracy:\t\t62.00 %\n",
      "Epoch 7 of 30 took 2.000s\n",
      "  training loss (in-iteration):\t\t1.551463\n",
      "  train accuracy:\t\t69.31 %\n",
      "  validation accuracy:\t\t55.20 %\n",
      "Epoch 8 of 30 took 2.111s\n",
      "  training loss (in-iteration):\t\t1.477413\n",
      "  train accuracy:\t\t71.52 %\n",
      "  validation accuracy:\t\t66.60 %\n",
      "Epoch 9 of 30 took 2.005s\n",
      "  training loss (in-iteration):\t\t1.404215\n",
      "  train accuracy:\t\t76.62 %\n",
      "  validation accuracy:\t\t59.40 %\n",
      "Epoch 10 of 30 took 1.980s\n",
      "  training loss (in-iteration):\t\t1.373313\n",
      "  train accuracy:\t\t76.55 %\n",
      "  validation accuracy:\t\t67.40 %\n",
      "Epoch 11 of 30 took 1.987s\n",
      "  training loss (in-iteration):\t\t1.343516\n",
      "  train accuracy:\t\t77.24 %\n",
      "  validation accuracy:\t\t60.80 %\n",
      "Epoch 12 of 30 took 2.008s\n",
      "  training loss (in-iteration):\t\t1.256678\n",
      "  train accuracy:\t\t81.34 %\n",
      "  validation accuracy:\t\t61.20 %\n",
      "Epoch 13 of 30 took 2.102s\n",
      "  training loss (in-iteration):\t\t1.214769\n",
      "  train accuracy:\t\t83.93 %\n",
      "  validation accuracy:\t\t66.20 %\n",
      "Epoch 14 of 30 took 1.999s\n",
      "  training loss (in-iteration):\t\t1.203365\n",
      "  train accuracy:\t\t84.66 %\n",
      "  validation accuracy:\t\t61.60 %\n",
      "Epoch 15 of 30 took 1.974s\n",
      "  training loss (in-iteration):\t\t1.129455\n",
      "  train accuracy:\t\t87.41 %\n",
      "  validation accuracy:\t\t67.00 %\n",
      "Epoch 16 of 30 took 2.126s\n",
      "  training loss (in-iteration):\t\t1.263559\n",
      "  train accuracy:\t\t85.00 %\n",
      "  validation accuracy:\t\t67.40 %\n",
      "Epoch 17 of 30 took 1.980s\n",
      "  training loss (in-iteration):\t\t1.062010\n",
      "  train accuracy:\t\t91.52 %\n",
      "  validation accuracy:\t\t65.40 %\n",
      "Epoch 18 of 30 took 1.974s\n",
      "  training loss (in-iteration):\t\t1.000695\n",
      "  train accuracy:\t\t93.72 %\n",
      "  validation accuracy:\t\t64.40 %\n",
      "Epoch 19 of 30 took 2.005s\n",
      "  training loss (in-iteration):\t\t0.974304\n",
      "  train accuracy:\t\t94.59 %\n",
      "  validation accuracy:\t\t64.00 %\n",
      "Epoch 20 of 30 took 1.980s\n",
      "  training loss (in-iteration):\t\t0.925185\n",
      "  train accuracy:\t\t96.62 %\n",
      "  validation accuracy:\t\t62.00 %\n",
      "Epoch 21 of 30 took 2.003s\n",
      "  training loss (in-iteration):\t\t0.937583\n",
      "  train accuracy:\t\t96.28 %\n",
      "  validation accuracy:\t\t62.60 %\n",
      "Epoch 22 of 30 took 1.997s\n",
      "  training loss (in-iteration):\t\t1.025416\n",
      "  train accuracy:\t\t93.21 %\n",
      "  validation accuracy:\t\t62.00 %\n",
      "Epoch 23 of 30 took 1.987s\n",
      "  training loss (in-iteration):\t\t1.056850\n",
      "  train accuracy:\t\t92.55 %\n",
      "  validation accuracy:\t\t63.80 %\n",
      "Epoch 24 of 30 took 1.997s\n",
      "  training loss (in-iteration):\t\t0.880320\n",
      "  train accuracy:\t\t98.07 %\n",
      "  validation accuracy:\t\t64.40 %\n",
      "Epoch 25 of 30 took 2.182s\n",
      "  training loss (in-iteration):\t\t0.861131\n",
      "  train accuracy:\t\t98.76 %\n",
      "  validation accuracy:\t\t64.80 %\n",
      "Epoch 26 of 30 took 2.169s\n",
      "  training loss (in-iteration):\t\t0.866686\n",
      "  train accuracy:\t\t98.07 %\n",
      "  validation accuracy:\t\t64.60 %\n",
      "Epoch 27 of 30 took 2.097s\n",
      "  training loss (in-iteration):\t\t0.839886\n",
      "  train accuracy:\t\t99.03 %\n",
      "  validation accuracy:\t\t64.80 %\n"
     ]
    },
    {
     "ename": "KeyboardInterrupt",
     "evalue": "",
     "output_type": "error",
     "traceback": [
      "\u001b[1;31m---------------------------------------------------------------------------\u001b[0m",
      "\u001b[1;31mKeyboardInterrupt\u001b[0m                         Traceback (most recent call last)",
      "\u001b[1;32m<ipython-input-37-d82e6a4058e4>\u001b[0m in \u001b[0;36m<module>\u001b[1;34m()\u001b[0m\n\u001b[0;32m     68\u001b[0m     \u001b[1;32mfor\u001b[0m \u001b[0mbatch\u001b[0m \u001b[1;32min\u001b[0m \u001b[0miterate_minibatches\u001b[0m\u001b[1;33m(\u001b[0m\u001b[0mf1_train\u001b[0m\u001b[1;33m,\u001b[0m \u001b[0my_train\u001b[0m\u001b[1;33m,\u001b[0m \u001b[0mbatch_size\u001b[0m\u001b[1;33m)\u001b[0m\u001b[1;33m:\u001b[0m\u001b[1;33m\u001b[0m\u001b[0m\n\u001b[0;32m     69\u001b[0m         \u001b[0minputs\u001b[0m\u001b[1;33m,\u001b[0m \u001b[0mtargets\u001b[0m \u001b[1;33m=\u001b[0m \u001b[0mbatch\u001b[0m\u001b[1;33m\u001b[0m\u001b[0m\n\u001b[1;32m---> 70\u001b[1;33m         \u001b[0mtrain_err_batch\u001b[0m\u001b[1;33m,\u001b[0m \u001b[0mtrain_acc_batch\u001b[0m \u001b[1;33m=\u001b[0m \u001b[0mtrain_fun\u001b[0m\u001b[1;33m(\u001b[0m\u001b[0minputs\u001b[0m\u001b[1;33m,\u001b[0m \u001b[0mtargets\u001b[0m\u001b[1;33m.\u001b[0m\u001b[0mastype\u001b[0m\u001b[1;33m(\u001b[0m\u001b[0mnp\u001b[0m\u001b[1;33m.\u001b[0m\u001b[0mint32\u001b[0m\u001b[1;33m)\u001b[0m\u001b[1;33m)\u001b[0m\u001b[1;33m\u001b[0m\u001b[0m\n\u001b[0m\u001b[0;32m     71\u001b[0m         \u001b[0mtrain_err\u001b[0m \u001b[1;33m+=\u001b[0m \u001b[0mtrain_err_batch\u001b[0m\u001b[1;33m\u001b[0m\u001b[0m\n\u001b[0;32m     72\u001b[0m         \u001b[0mtrain_acc\u001b[0m \u001b[1;33m+=\u001b[0m \u001b[0mtrain_acc_batch\u001b[0m\u001b[1;33m\u001b[0m\u001b[0m\n",
      "\u001b[1;32m/usr/lib/python2.7/site-packages/theano/compile/function_module.pyc\u001b[0m in \u001b[0;36m__call__\u001b[1;34m(self, *args, **kwargs)\u001b[0m\n\u001b[0;32m    813\u001b[0m                         s.storage[0] = s.type.filter(\n\u001b[0;32m    814\u001b[0m                             \u001b[0marg\u001b[0m\u001b[1;33m,\u001b[0m \u001b[0mstrict\u001b[0m\u001b[1;33m=\u001b[0m\u001b[0ms\u001b[0m\u001b[1;33m.\u001b[0m\u001b[0mstrict\u001b[0m\u001b[1;33m,\u001b[0m\u001b[1;33m\u001b[0m\u001b[0m\n\u001b[1;32m--> 815\u001b[1;33m                             allow_downcast=s.allow_downcast)\n\u001b[0m\u001b[0;32m    816\u001b[0m \u001b[1;33m\u001b[0m\u001b[0m\n\u001b[0;32m    817\u001b[0m                     \u001b[1;32mexcept\u001b[0m \u001b[0mException\u001b[0m \u001b[1;32mas\u001b[0m \u001b[0me\u001b[0m\u001b[1;33m:\u001b[0m\u001b[1;33m\u001b[0m\u001b[0m\n",
      "\u001b[1;32m/usr/lib/python2.7/site-packages/theano/tensor/type.pyc\u001b[0m in \u001b[0;36mfilter\u001b[1;34m(self, data, strict, allow_downcast)\u001b[0m\n\u001b[0;32m    148\u001b[0m                     \u001b[1;31m# data has to be converted.\u001b[0m\u001b[1;33m\u001b[0m\u001b[1;33m\u001b[0m\u001b[0m\n\u001b[0;32m    149\u001b[0m                     \u001b[1;31m# Check that this conversion is lossless\u001b[0m\u001b[1;33m\u001b[0m\u001b[1;33m\u001b[0m\u001b[0m\n\u001b[1;32m--> 150\u001b[1;33m                     \u001b[0mconverted_data\u001b[0m \u001b[1;33m=\u001b[0m \u001b[0mtheano\u001b[0m\u001b[1;33m.\u001b[0m\u001b[0m_asarray\u001b[0m\u001b[1;33m(\u001b[0m\u001b[0mdata\u001b[0m\u001b[1;33m,\u001b[0m \u001b[0mself\u001b[0m\u001b[1;33m.\u001b[0m\u001b[0mdtype\u001b[0m\u001b[1;33m)\u001b[0m\u001b[1;33m\u001b[0m\u001b[0m\n\u001b[0m\u001b[0;32m    151\u001b[0m                     \u001b[1;31m# We use the `values_eq` static function from TensorType\u001b[0m\u001b[1;33m\u001b[0m\u001b[1;33m\u001b[0m\u001b[0m\n\u001b[0;32m    152\u001b[0m                     \u001b[1;31m# to handle NaN values.\u001b[0m\u001b[1;33m\u001b[0m\u001b[1;33m\u001b[0m\u001b[0m\n",
      "\u001b[1;32m/usr/lib/python2.7/site-packages/theano/misc/safe_asarray.pyc\u001b[0m in \u001b[0;36m_asarray\u001b[1;34m(a, dtype, order)\u001b[0m\n\u001b[0;32m     32\u001b[0m         \u001b[0mdtype\u001b[0m \u001b[1;33m=\u001b[0m \u001b[0mtheano\u001b[0m\u001b[1;33m.\u001b[0m\u001b[0mconfig\u001b[0m\u001b[1;33m.\u001b[0m\u001b[0mfloatX\u001b[0m\u001b[1;33m\u001b[0m\u001b[0m\n\u001b[0;32m     33\u001b[0m     \u001b[0mdtype\u001b[0m \u001b[1;33m=\u001b[0m \u001b[0mnumpy\u001b[0m\u001b[1;33m.\u001b[0m\u001b[0mdtype\u001b[0m\u001b[1;33m(\u001b[0m\u001b[0mdtype\u001b[0m\u001b[1;33m)\u001b[0m  \u001b[1;31m# Convert into dtype object.\u001b[0m\u001b[1;33m\u001b[0m\u001b[0m\n\u001b[1;32m---> 34\u001b[1;33m     \u001b[0mrval\u001b[0m \u001b[1;33m=\u001b[0m \u001b[0mnumpy\u001b[0m\u001b[1;33m.\u001b[0m\u001b[0masarray\u001b[0m\u001b[1;33m(\u001b[0m\u001b[0ma\u001b[0m\u001b[1;33m,\u001b[0m \u001b[0mdtype\u001b[0m\u001b[1;33m=\u001b[0m\u001b[0mdtype\u001b[0m\u001b[1;33m,\u001b[0m \u001b[0morder\u001b[0m\u001b[1;33m=\u001b[0m\u001b[0morder\u001b[0m\u001b[1;33m)\u001b[0m\u001b[1;33m\u001b[0m\u001b[0m\n\u001b[0m\u001b[0;32m     35\u001b[0m     \u001b[1;31m# Note that dtype comparison must be done by comparing their `num`\u001b[0m\u001b[1;33m\u001b[0m\u001b[1;33m\u001b[0m\u001b[0m\n\u001b[0;32m     36\u001b[0m     \u001b[1;31m# attribute. One cannot assume that two identical data types are pointers\u001b[0m\u001b[1;33m\u001b[0m\u001b[1;33m\u001b[0m\u001b[0m\n",
      "\u001b[1;32m/usr/lib64/python2.7/site-packages/numpy/core/numeric.pyc\u001b[0m in \u001b[0;36masarray\u001b[1;34m(a, dtype, order)\u001b[0m\n\u001b[0;32m    480\u001b[0m \u001b[1;33m\u001b[0m\u001b[0m\n\u001b[0;32m    481\u001b[0m     \"\"\"\n\u001b[1;32m--> 482\u001b[1;33m     \u001b[1;32mreturn\u001b[0m \u001b[0marray\u001b[0m\u001b[1;33m(\u001b[0m\u001b[0ma\u001b[0m\u001b[1;33m,\u001b[0m \u001b[0mdtype\u001b[0m\u001b[1;33m,\u001b[0m \u001b[0mcopy\u001b[0m\u001b[1;33m=\u001b[0m\u001b[0mFalse\u001b[0m\u001b[1;33m,\u001b[0m \u001b[0morder\u001b[0m\u001b[1;33m=\u001b[0m\u001b[0morder\u001b[0m\u001b[1;33m)\u001b[0m\u001b[1;33m\u001b[0m\u001b[0m\n\u001b[0m\u001b[0;32m    483\u001b[0m \u001b[1;33m\u001b[0m\u001b[0m\n\u001b[0;32m    484\u001b[0m \u001b[1;32mdef\u001b[0m \u001b[0masanyarray\u001b[0m\u001b[1;33m(\u001b[0m\u001b[0ma\u001b[0m\u001b[1;33m,\u001b[0m \u001b[0mdtype\u001b[0m\u001b[1;33m=\u001b[0m\u001b[0mNone\u001b[0m\u001b[1;33m,\u001b[0m \u001b[0morder\u001b[0m\u001b[1;33m=\u001b[0m\u001b[0mNone\u001b[0m\u001b[1;33m)\u001b[0m\u001b[1;33m:\u001b[0m\u001b[1;33m\u001b[0m\u001b[0m\n",
      "\u001b[1;31mKeyboardInterrupt\u001b[0m: "
     ]
    }
   ],
   "source": [
    "with open('data_rem_road.pkl', 'rb') as f:\n",
    "    X_train, Seg_train, y_train, X_val, Seg_val, y_val, X_test, Seg_test, y_test = pickle.load(f)\n",
    "    \n",
    "with open('features_rem_road.pkl', 'rb') as f:\n",
    "    f1_train, f1_val, f1_test, f2_train, f2_val, f2_test = pickle.load(f)\n",
    "    \n",
    "bins = [np.percentile(y_train, 0),\n",
    "        np.percentile(y_train, 25),\n",
    "        np.percentile(y_train, 50),\n",
    "        np.percentile(y_train, 75),\n",
    "        np.percentile(y_train, 100) + 1]\n",
    "\n",
    "y_train = np.digitize(y_train, bins) - 1\n",
    "y_val = np.digitize(y_val, bins) - 1\n",
    "y_test = np.digitize(y_test, bins) - 1\n",
    "\n",
    "input_layer = InputLayer((None, f1_train[0].shape[0]))\n",
    "ll1 = DenseLayer(input_layer, num_units=2048, nonlinearity=lasagne.nonlinearities.elu)\n",
    "dr1 = DropoutLayer(ll1, p=0.5)\n",
    "ll2 = DenseLayer(dr1, num_units=2048, nonlinearity=lasagne.nonlinearities.elu)\n",
    "dr3 = DropoutLayer(ll2, p=0.5)\n",
    "ll3 = DenseLayer(dr3, num_units=1024, nonlinearity=lasagne.nonlinearities.elu)\n",
    "dr4 = DropoutLayer(ll3, p=0.5)\n",
    "ll4 = DenseLayer(dr4, num_units=512, nonlinearity=lasagne.nonlinearities.elu)\n",
    "dr5 = DropoutLayer(ll4, p=0.5)\n",
    "ll5 = DenseLayer(dr5, num_units=256, nonlinearity=lasagne.nonlinearities.elu)\n",
    "dr6 = DropoutLayer(ll5, p=0.5)\n",
    "percentile = DenseLayer(dr6, num_units=len(set(y_train)), nonlinearity=softmax)\n",
    "\n",
    "target_y = T.vector(\"target Y integer\", dtype='int32')\n",
    "input_X = T.matrix('X')\n",
    "\n",
    "probs = lasagne.layers.get_output(percentile, input_X, deterministic = True)\n",
    "y_predicted = np.argmax(probs, axis=1)\n",
    "\n",
    "#all network weights (shared variables)\n",
    "all_weights = lasagne.layers.get_all_params(percentile)\n",
    "print(all_weights)\n",
    "\n",
    "#Mean categorical crossentropy as a loss function - similar to logistic loss but for multiclass targets\n",
    "loss = lasagne.objectives.categorical_crossentropy(probs, target_y).mean()\n",
    "l2_penalty = regularize_layer_params(percentile, l2) * 1e-1\n",
    "l1_penalty = regularize_layer_params(percentile, l1) * 1e-3\n",
    "loss += l2_penalty + l1_penalty\n",
    "\n",
    "#prediction accuracy\n",
    "accuracy = lasagne.objectives.categorical_accuracy(probs, target_y).mean()\n",
    "\n",
    "#This function computes gradient AND composes weight updates just like you did earlier\n",
    "updates_sgd = lasagne.updates.adagrad(loss, all_weights, learning_rate=0.01)\n",
    "\n",
    "#function that computes loss and updates weights\n",
    "train_fun = theano.function([input_X, target_y], [loss, accuracy], updates = updates_sgd)\n",
    "\n",
    "#function that just computes accuracy\n",
    "accuracy_fun = theano.function([input_X, target_y],accuracy)\n",
    "\n",
    "num_epochs = 30 #amount of passes through the data\n",
    "\n",
    "batch_size = 100 #number of samples processed at each function call\n",
    "\n",
    "for epoch in range(num_epochs):\n",
    "    # In each epoch, we do a full pass over the training data:\n",
    "    train_err = 0\n",
    "    train_acc = 0\n",
    "    train_batches = 0\n",
    "    start_time = time.time()\n",
    "    for batch in iterate_minibatches(f1_train, y_train, batch_size):\n",
    "        inputs, targets = batch\n",
    "        train_err_batch, train_acc_batch = train_fun(inputs, targets.astype(np.int32))\n",
    "        train_err += train_err_batch\n",
    "        train_acc += train_acc_batch\n",
    "        train_batches += 1\n",
    "\n",
    "    # And a full pass over the validation data:\n",
    "    val_acc = 0\n",
    "    val_batches = 0\n",
    "    for batch in iterate_minibatches(f1_val, y_val, batch_size):\n",
    "        inputs, targets = batch\n",
    "        val_acc += accuracy_fun(inputs, targets.astype(np.int32))\n",
    "        val_batches += 1\n",
    "\n",
    "    \n",
    "    # Then we print the results for this epoch:\n",
    "    print(\"Epoch {} of {} took {:.3f}s\".format(\n",
    "        epoch + 1, num_epochs, time.time() - start_time))\n",
    "\n",
    "    print(\"  training loss (in-iteration):\\t\\t{:.6f}\".format(train_err / train_batches))\n",
    "    print(\"  train accuracy:\\t\\t{:.2f} %\".format(\n",
    "        train_acc / train_batches * 100))\n",
    "    print(\"  validation accuracy:\\t\\t{:.2f} %\".format(\n",
    "        val_acc / val_batches * 100))"
   ]
  },
  {
   "cell_type": "markdown",
   "metadata": {},
   "source": [
    "# Network with road, 5 classes"
   ]
  },
  {
   "cell_type": "code",
   "execution_count": null,
   "metadata": {
    "collapsed": true
   },
   "outputs": [],
   "source": [
    "with open('data_basic.pkl', 'rb') as f:\n",
    "    X_train, Seg_train, y_train, X_val, Seg_val, y_val, X_test, Seg_test, y_test = pickle.load(f)\n",
    "    \n",
    "with open('features_basic.pkl', 'rb') as f:\n",
    "    f1_train, f1_val, f1_test, f2_train, f2_val, f2_test = pickle.load(f)\n",
    "    \n",
    "bins = [np.percentile(y_train, 0),\n",
    "        np.percentile(y_train, 25),\n",
    "        np.percentile(y_train, 50),\n",
    "        np.percentile(y_train, 75),\n",
    "        np.percentile(y_train, 100) + 1]\n",
    "\n",
    "y_train = np.digitize(y_train, bins) - 1\n",
    "y_val = np.digitize(y_val, bins) - 1\n",
    "y_test = np.digitize(y_test, bins) - 1"
   ]
  },
  {
   "cell_type": "code",
   "execution_count": 36,
   "metadata": {
    "collapsed": false,
    "scrolled": true
   },
   "outputs": [
    {
     "name": "stdout",
     "output_type": "stream",
     "text": [
      "[W, b, W, b, W, b, W, b, W, b, W, b]\n",
      "Epoch 1 of 300 took 2.036s\n",
      "  training loss (in-iteration):\t\t140.387504\n",
      "  train accuracy:\t\t31.28 %\n",
      "  validation accuracy:\t\t52.80 %\n",
      "Epoch 2 of 300 took 2.016s\n",
      "  training loss (in-iteration):\t\t13.295092\n",
      "  train accuracy:\t\t55.17 %\n",
      "  validation accuracy:\t\t58.20 %\n",
      "Epoch 3 of 300 took 2.002s\n",
      "  training loss (in-iteration):\t\t12.705572\n",
      "  train accuracy:\t\t62.45 %\n",
      "  validation accuracy:\t\t60.40 %\n",
      "Epoch 4 of 300 took 2.003s\n",
      "  training loss (in-iteration):\t\t12.226186\n",
      "  train accuracy:\t\t68.86 %\n",
      "  validation accuracy:\t\t60.40 %\n",
      "Epoch 5 of 300 took 2.002s\n",
      "  training loss (in-iteration):\t\t11.880651\n",
      "  train accuracy:\t\t71.07 %\n",
      "  validation accuracy:\t\t60.20 %\n",
      "Epoch 6 of 300 took 2.014s\n",
      "  training loss (in-iteration):\t\t11.404465\n",
      "  train accuracy:\t\t79.07 %\n",
      "  validation accuracy:\t\t61.80 %\n",
      "Epoch 7 of 300 took 2.018s\n",
      "  training loss (in-iteration):\t\t11.053822\n",
      "  train accuracy:\t\t84.86 %\n",
      "  validation accuracy:\t\t65.00 %\n",
      "Epoch 8 of 300 took 1.896s\n",
      "  training loss (in-iteration):\t\t10.977491\n",
      "  train accuracy:\t\t79.59 %\n",
      "  validation accuracy:\t\t61.00 %\n",
      "Epoch 9 of 300 took 2.035s\n",
      "  training loss (in-iteration):\t\t10.554585\n",
      "  train accuracy:\t\t87.14 %\n",
      "  validation accuracy:\t\t65.00 %\n",
      "Epoch 10 of 300 took 1.963s\n",
      "  training loss (in-iteration):\t\t10.316450\n",
      "  train accuracy:\t\t90.83 %\n",
      "  validation accuracy:\t\t64.80 %\n",
      "Epoch 11 of 300 took 1.936s\n",
      "  training loss (in-iteration):\t\t10.013761\n",
      "  train accuracy:\t\t95.55 %\n",
      "  validation accuracy:\t\t63.40 %\n",
      "Epoch 12 of 300 took 1.933s\n",
      "  training loss (in-iteration):\t\t9.810423\n",
      "  train accuracy:\t\t97.24 %\n",
      "  validation accuracy:\t\t63.80 %\n",
      "Epoch 13 of 300 took 1.933s\n",
      "  training loss (in-iteration):\t\t9.722251\n",
      "  train accuracy:\t\t95.52 %\n",
      "  validation accuracy:\t\t63.00 %\n",
      "Epoch 14 of 300 took 1.922s\n",
      "  training loss (in-iteration):\t\t9.467655\n",
      "  train accuracy:\t\t99.24 %\n",
      "  validation accuracy:\t\t64.40 %\n",
      "Epoch 15 of 300 took 1.951s\n",
      "  training loss (in-iteration):\t\t9.321485\n",
      "  train accuracy:\t\t99.38 %\n",
      "  validation accuracy:\t\t66.20 %\n",
      "Epoch 16 of 300 took 1.924s\n",
      "  training loss (in-iteration):\t\t9.184269\n",
      "  train accuracy:\t\t99.72 %\n",
      "  validation accuracy:\t\t65.60 %\n",
      "Epoch 17 of 300 took 1.955s\n",
      "  training loss (in-iteration):\t\t9.060074\n",
      "  train accuracy:\t\t99.86 %\n",
      "  validation accuracy:\t\t65.60 %\n",
      "Epoch 18 of 300 took 2.053s\n",
      "  training loss (in-iteration):\t\t8.943007\n",
      "  train accuracy:\t\t99.93 %\n",
      "  validation accuracy:\t\t64.40 %\n"
     ]
    },
    {
     "ename": "KeyboardInterrupt",
     "evalue": "",
     "output_type": "error",
     "traceback": [
      "\u001b[1;31m---------------------------------------------------------------------------\u001b[0m",
      "\u001b[1;31mKeyboardInterrupt\u001b[0m                         Traceback (most recent call last)",
      "\u001b[1;32m<ipython-input-36-c68afadbdafd>\u001b[0m in \u001b[0;36m<module>\u001b[1;34m()\u001b[0m\n\u001b[0;32m     52\u001b[0m     \u001b[1;32mfor\u001b[0m \u001b[0mbatch\u001b[0m \u001b[1;32min\u001b[0m \u001b[0miterate_minibatches\u001b[0m\u001b[1;33m(\u001b[0m\u001b[0mf1_train\u001b[0m\u001b[1;33m,\u001b[0m \u001b[0my_train\u001b[0m\u001b[1;33m,\u001b[0m \u001b[0mbatch_size\u001b[0m\u001b[1;33m)\u001b[0m\u001b[1;33m:\u001b[0m\u001b[1;33m\u001b[0m\u001b[0m\n\u001b[0;32m     53\u001b[0m         \u001b[0minputs\u001b[0m\u001b[1;33m,\u001b[0m \u001b[0mtargets\u001b[0m \u001b[1;33m=\u001b[0m \u001b[0mbatch\u001b[0m\u001b[1;33m\u001b[0m\u001b[0m\n\u001b[1;32m---> 54\u001b[1;33m         \u001b[0mtrain_err_batch\u001b[0m\u001b[1;33m,\u001b[0m \u001b[0mtrain_acc_batch\u001b[0m \u001b[1;33m=\u001b[0m \u001b[0mtrain_fun\u001b[0m\u001b[1;33m(\u001b[0m\u001b[0minputs\u001b[0m\u001b[1;33m,\u001b[0m \u001b[0mtargets\u001b[0m\u001b[1;33m.\u001b[0m\u001b[0mastype\u001b[0m\u001b[1;33m(\u001b[0m\u001b[0mnp\u001b[0m\u001b[1;33m.\u001b[0m\u001b[0mint32\u001b[0m\u001b[1;33m)\u001b[0m\u001b[1;33m)\u001b[0m\u001b[1;33m\u001b[0m\u001b[0m\n\u001b[0m\u001b[0;32m     55\u001b[0m         \u001b[0mtrain_err\u001b[0m \u001b[1;33m+=\u001b[0m \u001b[0mtrain_err_batch\u001b[0m\u001b[1;33m\u001b[0m\u001b[0m\n\u001b[0;32m     56\u001b[0m         \u001b[0mtrain_acc\u001b[0m \u001b[1;33m+=\u001b[0m \u001b[0mtrain_acc_batch\u001b[0m\u001b[1;33m\u001b[0m\u001b[0m\n",
      "\u001b[1;32m/usr/lib/python2.7/site-packages/theano/compile/function_module.pyc\u001b[0m in \u001b[0;36m__call__\u001b[1;34m(self, *args, **kwargs)\u001b[0m\n\u001b[0;32m    887\u001b[0m         \u001b[1;32mtry\u001b[0m\u001b[1;33m:\u001b[0m\u001b[1;33m\u001b[0m\u001b[0m\n\u001b[0;32m    888\u001b[0m             \u001b[0moutputs\u001b[0m \u001b[1;33m=\u001b[0m\u001b[0;31m\\\u001b[0m\u001b[1;33m\u001b[0m\u001b[0m\n\u001b[1;32m--> 889\u001b[1;33m                 \u001b[0mself\u001b[0m\u001b[1;33m.\u001b[0m\u001b[0mfn\u001b[0m\u001b[1;33m(\u001b[0m\u001b[1;33m)\u001b[0m \u001b[1;32mif\u001b[0m \u001b[0moutput_subset\u001b[0m \u001b[1;32mis\u001b[0m \u001b[0mNone\u001b[0m \u001b[1;32melse\u001b[0m\u001b[0;31m\\\u001b[0m\u001b[1;33m\u001b[0m\u001b[0m\n\u001b[0m\u001b[0;32m    890\u001b[0m                 \u001b[0mself\u001b[0m\u001b[1;33m.\u001b[0m\u001b[0mfn\u001b[0m\u001b[1;33m(\u001b[0m\u001b[0moutput_subset\u001b[0m\u001b[1;33m=\u001b[0m\u001b[0moutput_subset\u001b[0m\u001b[1;33m)\u001b[0m\u001b[1;33m\u001b[0m\u001b[0m\n\u001b[0;32m    891\u001b[0m         \u001b[1;32mexcept\u001b[0m \u001b[0mException\u001b[0m\u001b[1;33m:\u001b[0m\u001b[1;33m\u001b[0m\u001b[0m\n",
      "\u001b[1;31mKeyboardInterrupt\u001b[0m: "
     ]
    }
   ],
   "source": [
    "input_layer = InputLayer((None, f1_train[0].shape[0]))\n",
    "ll1 = DenseLayer(input_layer, num_units=2048, nonlinearity=lasagne.nonlinearities.elu)\n",
    "dr1 = DropoutLayer(ll1, p=0.5)\n",
    "ll2 = DenseLayer(dr1, num_units=2048, nonlinearity=lasagne.nonlinearities.elu)\n",
    "dr3 = DropoutLayer(ll2, p=0.5)\n",
    "ll3 = DenseLayer(dr3, num_units=1024, nonlinearity=lasagne.nonlinearities.elu)\n",
    "dr4 = DropoutLayer(ll3, p=0.5)\n",
    "ll4 = DenseLayer(dr4, num_units=512, nonlinearity=lasagne.nonlinearities.elu)\n",
    "dr5 = DropoutLayer(ll4, p=0.5)\n",
    "ll5 = DenseLayer(dr5, num_units=256, nonlinearity=lasagne.nonlinearities.elu)\n",
    "dr6 = DropoutLayer(ll5, p=0.5)\n",
    "percentile = DenseLayer(dr6, num_units=len(set(y_train)), nonlinearity=softmax)\n",
    "\n",
    "target_y = T.vector(\"target Y integer\", dtype='int32')\n",
    "input_X = T.matrix('X')\n",
    "\n",
    "probs = lasagne.layers.get_output(percentile, input_X, deterministic = True)\n",
    "y_predicted = np.argmax(probs, axis=1)\n",
    "\n",
    "#all network weights (shared variables)\n",
    "all_weights = lasagne.layers.get_all_params(percentile)\n",
    "print(all_weights)\n",
    "\n",
    "#Mean categorical crossentropy as a loss function - similar to logistic loss but for multiclass targets\n",
    "loss = lasagne.objectives.categorical_crossentropy(probs, target_y).mean()\n",
    "l2_penalty = regularize_layer_params(percentile, l2) * 1e-1\n",
    "l1_penalty = regularize_layer_params(percentile, l1) * 1e-2\n",
    "loss += l2_penalty + l1_penalty\n",
    "\n",
    "#prediction accuracy\n",
    "accuracy = lasagne.objectives.categorical_accuracy(probs, target_y).mean()\n",
    "\n",
    "#This function computes gradient AND composes weight updates just like you did earlier\n",
    "updates_sgd = lasagne.updates.adagrad(loss, all_weights, learning_rate=0.005)\n",
    "\n",
    "#function that computes loss and updates weights\n",
    "train_fun = theano.function([input_X, target_y], [loss, accuracy], updates = updates_sgd)\n",
    "\n",
    "#function that just computes accuracy\n",
    "accuracy_fun = theano.function([input_X, target_y],accuracy)\n",
    "\n",
    "num_epochs = 300 #amount of passes through the data\n",
    "\n",
    "batch_size = 100 #number of samples processed at each function call\n",
    "\n",
    "for epoch in range(num_epochs):\n",
    "    # In each epoch, we do a full pass over the training data:\n",
    "    train_err = 0\n",
    "    train_acc = 0\n",
    "    train_batches = 0\n",
    "    start_time = time.time()\n",
    "    for batch in iterate_minibatches(f1_train, y_train, batch_size):\n",
    "        inputs, targets = batch\n",
    "        train_err_batch, train_acc_batch = train_fun(inputs, targets.astype(np.int32))\n",
    "        train_err += train_err_batch\n",
    "        train_acc += train_acc_batch\n",
    "        train_batches += 1\n",
    "\n",
    "    # And a full pass over the validation data:\n",
    "    val_acc = 0\n",
    "    val_batches = 0\n",
    "    for batch in iterate_minibatches(f1_val, y_val, batch_size):\n",
    "        inputs, targets = batch\n",
    "        val_acc += accuracy_fun(inputs, targets.astype(np.int32))\n",
    "        val_batches += 1\n",
    "\n",
    "    \n",
    "    # Then we print the results for this epoch:\n",
    "    print(\"Epoch {} of {} took {:.3f}s\".format(\n",
    "        epoch + 1, num_epochs, time.time() - start_time))\n",
    "\n",
    "    print(\"  training loss (in-iteration):\\t\\t{:.6f}\".format(train_err / train_batches))\n",
    "    print(\"  train accuracy:\\t\\t{:.2f} %\".format(\n",
    "        train_acc / train_batches * 100))\n",
    "    print(\"  validation accuracy:\\t\\t{:.2f} %\".format(\n",
    "        val_acc / val_batches * 100))"
   ]
  },
  {
   "cell_type": "markdown",
   "metadata": {},
   "source": [
    "# Network deleted road, 5 classes, stacked with segs"
   ]
  },
  {
   "cell_type": "code",
   "execution_count": 9,
   "metadata": {
    "collapsed": false,
    "scrolled": true
   },
   "outputs": [
    {
     "name": "stdout",
     "output_type": "stream",
     "text": [
      "[W, b, W, b, W, b]\n"
     ]
    },
    {
     "ename": "MemoryError",
     "evalue": "Error allocating 603979776 bytes of device memory (out of memory).\nApply node that caused the error: GpuDot22(GpuDimShuffle{1,0}.0, GpuElemwise{Composite{(i0 + (i0 * sgn(i1)))}}[(0, 0)].0)\nToposort index: 54\nInputs types: [CudaNdarrayType(float32, matrix), CudaNdarrayType(float32, matrix)]\nInputs shapes: [(36864, 100), (100, 4096)]\nInputs strides: [(1, 36864), (4096, 1)]\nInputs values: ['not shown', 'not shown']\nOutputs clients: [[GpuElemwise{Sqr}[(0, 0)](GpuDot22.0)]]\n\nHINT: Re-running with most Theano optimization disabled could give you a back-trace of when this node was created. This can be done with by setting the Theano flag 'optimizer=fast_compile'. If that does not work, Theano optimizations can be disabled with 'optimizer=None'.\nHINT: Use the Theano flag 'exception_verbosity=high' for a debugprint and storage map footprint of this apply node.",
     "output_type": "error",
     "traceback": [
      "\u001b[1;31m---------------------------------------------------------------------------\u001b[0m",
      "\u001b[1;31mMemoryError\u001b[0m                               Traceback (most recent call last)",
      "\u001b[1;32m<ipython-input-9-7a80a87eb928>\u001b[0m in \u001b[0;36m<module>\u001b[1;34m()\u001b[0m\n\u001b[0;32m     65\u001b[0m     \u001b[1;32mfor\u001b[0m \u001b[0mbatch\u001b[0m \u001b[1;32min\u001b[0m \u001b[0miterate_minibatches\u001b[0m\u001b[1;33m(\u001b[0m\u001b[0mf1_train\u001b[0m\u001b[1;33m,\u001b[0m \u001b[0my_train\u001b[0m\u001b[1;33m,\u001b[0m \u001b[0mbatch_size\u001b[0m\u001b[1;33m)\u001b[0m\u001b[1;33m:\u001b[0m\u001b[1;33m\u001b[0m\u001b[0m\n\u001b[0;32m     66\u001b[0m         \u001b[0minputs\u001b[0m\u001b[1;33m,\u001b[0m \u001b[0mtargets\u001b[0m \u001b[1;33m=\u001b[0m \u001b[0mbatch\u001b[0m\u001b[1;33m\u001b[0m\u001b[0m\n\u001b[1;32m---> 67\u001b[1;33m         \u001b[0mtrain_err_batch\u001b[0m\u001b[1;33m,\u001b[0m \u001b[0mtrain_acc_batch\u001b[0m \u001b[1;33m=\u001b[0m \u001b[0mtrain_fun\u001b[0m\u001b[1;33m(\u001b[0m\u001b[0minputs\u001b[0m\u001b[1;33m,\u001b[0m \u001b[0mtargets\u001b[0m\u001b[1;33m.\u001b[0m\u001b[0mastype\u001b[0m\u001b[1;33m(\u001b[0m\u001b[0mnp\u001b[0m\u001b[1;33m.\u001b[0m\u001b[0mint32\u001b[0m\u001b[1;33m)\u001b[0m\u001b[1;33m)\u001b[0m\u001b[1;33m\u001b[0m\u001b[0m\n\u001b[0m\u001b[0;32m     68\u001b[0m         \u001b[0mtrain_err\u001b[0m \u001b[1;33m+=\u001b[0m \u001b[0mtrain_err_batch\u001b[0m\u001b[1;33m\u001b[0m\u001b[0m\n\u001b[0;32m     69\u001b[0m         \u001b[0mtrain_acc\u001b[0m \u001b[1;33m+=\u001b[0m \u001b[0mtrain_acc_batch\u001b[0m\u001b[1;33m\u001b[0m\u001b[0m\n",
      "\u001b[1;32m/home/user/anaconda2/lib/python2.7/site-packages/theano/compile/function_module.pyc\u001b[0m in \u001b[0;36m__call__\u001b[1;34m(self, *args, **kwargs)\u001b[0m\n\u001b[0;32m    910\u001b[0m                     \u001b[0mnode\u001b[0m\u001b[1;33m=\u001b[0m\u001b[0mself\u001b[0m\u001b[1;33m.\u001b[0m\u001b[0mfn\u001b[0m\u001b[1;33m.\u001b[0m\u001b[0mnodes\u001b[0m\u001b[1;33m[\u001b[0m\u001b[0mself\u001b[0m\u001b[1;33m.\u001b[0m\u001b[0mfn\u001b[0m\u001b[1;33m.\u001b[0m\u001b[0mposition_of_error\u001b[0m\u001b[1;33m]\u001b[0m\u001b[1;33m,\u001b[0m\u001b[1;33m\u001b[0m\u001b[0m\n\u001b[0;32m    911\u001b[0m                     \u001b[0mthunk\u001b[0m\u001b[1;33m=\u001b[0m\u001b[0mthunk\u001b[0m\u001b[1;33m,\u001b[0m\u001b[1;33m\u001b[0m\u001b[0m\n\u001b[1;32m--> 912\u001b[1;33m                     storage_map=getattr(self.fn, 'storage_map', None))\n\u001b[0m\u001b[0;32m    913\u001b[0m             \u001b[1;32melse\u001b[0m\u001b[1;33m:\u001b[0m\u001b[1;33m\u001b[0m\u001b[0m\n\u001b[0;32m    914\u001b[0m                 \u001b[1;31m# old-style linkers raise their own exceptions\u001b[0m\u001b[1;33m\u001b[0m\u001b[1;33m\u001b[0m\u001b[0m\n",
      "\u001b[1;32m/home/user/anaconda2/lib/python2.7/site-packages/theano/gof/link.pyc\u001b[0m in \u001b[0;36mraise_with_op\u001b[1;34m(node, thunk, exc_info, storage_map)\u001b[0m\n\u001b[0;32m    312\u001b[0m         \u001b[1;31m# extra long error message in that case.\u001b[0m\u001b[1;33m\u001b[0m\u001b[1;33m\u001b[0m\u001b[0m\n\u001b[0;32m    313\u001b[0m         \u001b[1;32mpass\u001b[0m\u001b[1;33m\u001b[0m\u001b[0m\n\u001b[1;32m--> 314\u001b[1;33m     \u001b[0mreraise\u001b[0m\u001b[1;33m(\u001b[0m\u001b[0mexc_type\u001b[0m\u001b[1;33m,\u001b[0m \u001b[0mexc_value\u001b[0m\u001b[1;33m,\u001b[0m \u001b[0mexc_trace\u001b[0m\u001b[1;33m)\u001b[0m\u001b[1;33m\u001b[0m\u001b[0m\n\u001b[0m\u001b[0;32m    315\u001b[0m \u001b[1;33m\u001b[0m\u001b[0m\n\u001b[0;32m    316\u001b[0m \u001b[1;33m\u001b[0m\u001b[0m\n",
      "\u001b[1;32m/home/user/anaconda2/lib/python2.7/site-packages/theano/compile/function_module.pyc\u001b[0m in \u001b[0;36m__call__\u001b[1;34m(self, *args, **kwargs)\u001b[0m\n\u001b[0;32m    897\u001b[0m         \u001b[1;32mtry\u001b[0m\u001b[1;33m:\u001b[0m\u001b[1;33m\u001b[0m\u001b[0m\n\u001b[0;32m    898\u001b[0m             \u001b[0moutputs\u001b[0m \u001b[1;33m=\u001b[0m\u001b[0;31m\\\u001b[0m\u001b[1;33m\u001b[0m\u001b[0m\n\u001b[1;32m--> 899\u001b[1;33m                 \u001b[0mself\u001b[0m\u001b[1;33m.\u001b[0m\u001b[0mfn\u001b[0m\u001b[1;33m(\u001b[0m\u001b[1;33m)\u001b[0m \u001b[1;32mif\u001b[0m \u001b[0moutput_subset\u001b[0m \u001b[1;32mis\u001b[0m \u001b[0mNone\u001b[0m \u001b[1;32melse\u001b[0m\u001b[0;31m\\\u001b[0m\u001b[1;33m\u001b[0m\u001b[0m\n\u001b[0m\u001b[0;32m    900\u001b[0m                 \u001b[0mself\u001b[0m\u001b[1;33m.\u001b[0m\u001b[0mfn\u001b[0m\u001b[1;33m(\u001b[0m\u001b[0moutput_subset\u001b[0m\u001b[1;33m=\u001b[0m\u001b[0moutput_subset\u001b[0m\u001b[1;33m)\u001b[0m\u001b[1;33m\u001b[0m\u001b[0m\n\u001b[0;32m    901\u001b[0m         \u001b[1;32mexcept\u001b[0m \u001b[0mException\u001b[0m\u001b[1;33m:\u001b[0m\u001b[1;33m\u001b[0m\u001b[0m\n",
      "\u001b[1;31mMemoryError\u001b[0m: Error allocating 603979776 bytes of device memory (out of memory).\nApply node that caused the error: GpuDot22(GpuDimShuffle{1,0}.0, GpuElemwise{Composite{(i0 + (i0 * sgn(i1)))}}[(0, 0)].0)\nToposort index: 54\nInputs types: [CudaNdarrayType(float32, matrix), CudaNdarrayType(float32, matrix)]\nInputs shapes: [(36864, 100), (100, 4096)]\nInputs strides: [(1, 36864), (4096, 1)]\nInputs values: ['not shown', 'not shown']\nOutputs clients: [[GpuElemwise{Sqr}[(0, 0)](GpuDot22.0)]]\n\nHINT: Re-running with most Theano optimization disabled could give you a back-trace of when this node was created. This can be done with by setting the Theano flag 'optimizer=fast_compile'. If that does not work, Theano optimizations can be disabled with 'optimizer=None'.\nHINT: Use the Theano flag 'exception_verbosity=high' for a debugprint and storage map footprint of this apply node."
     ]
    }
   ],
   "source": [
    "with open('data_rem_road.pkl', 'rb') as f:\n",
    "    X_train, Seg_train, y_train, X_val, Seg_val, y_val, X_test, Seg_test, y_test = pickle.load(f)\n",
    "    \n",
    "with open('features_rem_road.pkl', 'rb') as f:\n",
    "    f1_train, f1_val, f1_test, f2_train, f2_val, f2_test = pickle.load(f)\n",
    "    \n",
    "f1_train = np.hstack((np.array(f1_train), np.array(f2_train)))\n",
    "f1_val = np.hstack((np.array(f1_val), np.array(f2_val)))\n",
    "    \n",
    "bins = [np.percentile(y_train, 0),\n",
    "        np.percentile(y_train, 25),\n",
    "        np.percentile(y_train, 50),\n",
    "        np.percentile(y_train, 75),\n",
    "        np.percentile(y_train, 100) + 1]\n",
    "\n",
    "y_train = np.digitize(y_train, bins) - 1\n",
    "y_val = np.digitize(y_val, bins) - 1\n",
    "y_test = np.digitize(y_test, bins) - 1\n",
    "\n",
    "input_layer = InputLayer((None, f1_train[0].shape[0]))\n",
    "ll1 = DenseLayer(input_layer, num_units=4096)\n",
    "dr1 = DropoutLayer(ll1, p=0.5)\n",
    "ll2 = DenseLayer(dr1, num_units=4096)\n",
    "dr3 = DropoutLayer(ll2, p=0.5)\n",
    "percentile = DenseLayer(dr3, num_units=len(set(y_train)), nonlinearity=softmax)\n",
    "\n",
    "target_y = T.vector(\"target Y integer\", dtype='int32')\n",
    "input_X = T.matrix('X')\n",
    "\n",
    "probs = lasagne.layers.get_output(percentile, input_X, deterministic = True)\n",
    "y_predicted = np.argmax(probs, axis=1)\n",
    "\n",
    "#all network weights (shared variables)\n",
    "all_weights = lasagne.layers.get_all_params(percentile)\n",
    "print(all_weights)\n",
    "\n",
    "#Mean categorical crossentropy as a loss function - similar to logistic loss but for multiclass targets\n",
    "loss = lasagne.objectives.categorical_crossentropy(probs, target_y).mean()\n",
    "l2_penalty = regularize_layer_params(percentile, l2) * 1e-2\n",
    "l1_penalty = regularize_layer_params(percentile, l1) * 1e-3\n",
    "loss += l2_penalty + l1_penalty\n",
    "\n",
    "#prediction accuracy\n",
    "accuracy = lasagne.objectives.categorical_accuracy(probs, target_y).mean()\n",
    "\n",
    "#This function computes gradient AND composes weight updates just like you did earlier\n",
    "updates_sgd = lasagne.updates.adagrad(loss, all_weights, learning_rate=0.01)\n",
    "\n",
    "#function that computes loss and updates weights\n",
    "train_fun = theano.function([input_X, target_y], [loss, accuracy], updates = updates_sgd)\n",
    "\n",
    "#function that just computes accuracy\n",
    "accuracy_fun = theano.function([input_X, target_y],accuracy)\n",
    "\n",
    "num_epochs = 30 #amount of passes through the data\n",
    "\n",
    "batch_size = 100 #number of samples processed at each function call\n",
    "\n",
    "for epoch in range(num_epochs):\n",
    "    # In each epoch, we do a full pass over the training data:\n",
    "    train_err = 0\n",
    "    train_acc = 0\n",
    "    train_batches = 0\n",
    "    start_time = time.time()\n",
    "    for batch in iterate_minibatches(f1_train, y_train, batch_size):\n",
    "        inputs, targets = batch\n",
    "        train_err_batch, train_acc_batch = train_fun(inputs, targets.astype(np.int32))\n",
    "        train_err += train_err_batch\n",
    "        train_acc += train_acc_batch\n",
    "        train_batches += 1\n",
    "\n",
    "    # And a full pass over the validation data:\n",
    "    val_acc = 0\n",
    "    val_batches = 0\n",
    "    for batch in iterate_minibatches(f1_val, y_val, batch_size):\n",
    "        inputs, targets = batch\n",
    "        val_acc += accuracy_fun(inputs, targets.astype(np.int32))\n",
    "        val_batches += 1\n",
    "\n",
    "    \n",
    "    # Then we print the results for this epoch:\n",
    "    print(\"Epoch {} of {} took {:.3f}s\".format(\n",
    "        epoch + 1, num_epochs, time.time() - start_time))\n",
    "\n",
    "    print(\"  training loss (in-iteration):\\t\\t{:.6f}\".format(train_err / train_batches))\n",
    "    print(\"  train accuracy:\\t\\t{:.2f} %\".format(\n",
    "        train_acc / train_batches * 100))\n",
    "    print(\"  validation accuracy:\\t\\t{:.2f} %\".format(\n",
    "        val_acc / val_batches * 100))"
   ]
  },
  {
   "cell_type": "markdown",
   "metadata": {},
   "source": [
    "# Network with road, 5 classes, stacked with segs"
   ]
  },
  {
   "cell_type": "code",
   "execution_count": 8,
   "metadata": {
    "collapsed": false
   },
   "outputs": [
    {
     "name": "stdout",
     "output_type": "stream",
     "text": [
      "[W, b, W, b, W, b]\n",
      "Epoch 1 of 30 took 4.315s\n",
      "  training loss (in-iteration):\t\t4726.092065\n",
      "  train accuracy:\t\t24.38 %\n",
      "  validation accuracy:\t\t33.00 %\n",
      "Epoch 2 of 30 took 4.367s\n",
      "  training loss (in-iteration):\t\t11.885494\n",
      "  train accuracy:\t\t30.03 %\n",
      "  validation accuracy:\t\t26.00 %\n",
      "Epoch 3 of 30 took 4.157s\n",
      "  training loss (in-iteration):\t\t5.118199\n",
      "  train accuracy:\t\t30.03 %\n",
      "  validation accuracy:\t\t25.20 %\n",
      "Epoch 4 of 30 took 4.156s\n",
      "  training loss (in-iteration):\t\t4.719048\n",
      "  train accuracy:\t\t33.24 %\n",
      "  validation accuracy:\t\t25.00 %\n",
      "Epoch 5 of 30 took 4.154s\n",
      "  training loss (in-iteration):\t\t4.602650\n",
      "  train accuracy:\t\t33.83 %\n",
      "  validation accuracy:\t\t25.40 %\n",
      "Epoch 6 of 30 took 4.158s\n",
      "  training loss (in-iteration):\t\t4.511264\n",
      "  train accuracy:\t\t34.45 %\n",
      "  validation accuracy:\t\t29.20 %\n",
      "Epoch 7 of 30 took 4.156s\n",
      "  training loss (in-iteration):\t\t4.433514\n",
      "  train accuracy:\t\t35.31 %\n",
      "  validation accuracy:\t\t31.80 %\n",
      "Epoch 8 of 30 took 4.153s\n",
      "  training loss (in-iteration):\t\t4.364174\n",
      "  train accuracy:\t\t35.90 %\n",
      "  validation accuracy:\t\t33.00 %\n",
      "Epoch 9 of 30 took 4.321s\n",
      "  training loss (in-iteration):\t\t4.301553\n",
      "  train accuracy:\t\t36.66 %\n",
      "  validation accuracy:\t\t34.60 %\n",
      "Epoch 10 of 30 took 4.163s\n",
      "  training loss (in-iteration):\t\t4.242831\n",
      "  train accuracy:\t\t38.03 %\n",
      "  validation accuracy:\t\t36.00 %\n",
      "Epoch 11 of 30 took 4.158s\n",
      "  training loss (in-iteration):\t\t4.186211\n",
      "  train accuracy:\t\t40.17 %\n",
      "  validation accuracy:\t\t37.40 %\n",
      "Epoch 12 of 30 took 4.189s\n",
      "  training loss (in-iteration):\t\t4.131390\n",
      "  train accuracy:\t\t42.07 %\n",
      "  validation accuracy:\t\t37.60 %\n",
      "Epoch 13 of 30 took 4.163s\n",
      "  training loss (in-iteration):\t\t4.075547\n",
      "  train accuracy:\t\t43.79 %\n",
      "  validation accuracy:\t\t39.00 %\n",
      "Epoch 14 of 30 took 4.183s\n",
      "  training loss (in-iteration):\t\t4.020848\n",
      "  train accuracy:\t\t45.31 %\n",
      "  validation accuracy:\t\t40.00 %\n",
      "Epoch 15 of 30 took 4.165s\n",
      "  training loss (in-iteration):\t\t3.965067\n",
      "  train accuracy:\t\t47.62 %\n",
      "  validation accuracy:\t\t42.20 %\n",
      "Epoch 16 of 30 took 4.164s\n",
      "  training loss (in-iteration):\t\t3.908799\n",
      "  train accuracy:\t\t50.52 %\n",
      "  validation accuracy:\t\t42.60 %\n",
      "Epoch 17 of 30 took 4.170s\n",
      "  training loss (in-iteration):\t\t3.857314\n",
      "  train accuracy:\t\t53.24 %\n",
      "  validation accuracy:\t\t43.60 %\n",
      "Epoch 18 of 30 took 4.167s\n",
      "  training loss (in-iteration):\t\t3.806450\n",
      "  train accuracy:\t\t55.59 %\n",
      "  validation accuracy:\t\t43.20 %\n",
      "Epoch 19 of 30 took 4.179s\n",
      "  training loss (in-iteration):\t\t3.757564\n",
      "  train accuracy:\t\t57.03 %\n",
      "  validation accuracy:\t\t43.20 %\n",
      "Epoch 20 of 30 took 4.165s\n",
      "  training loss (in-iteration):\t\t3.713492\n",
      "  train accuracy:\t\t58.41 %\n",
      "  validation accuracy:\t\t42.40 %\n",
      "Epoch 21 of 30 took 4.181s\n",
      "  training loss (in-iteration):\t\t3.673273\n",
      "  train accuracy:\t\t59.66 %\n",
      "  validation accuracy:\t\t42.20 %\n",
      "Epoch 22 of 30 took 4.169s\n",
      "  training loss (in-iteration):\t\t3.635788\n",
      "  train accuracy:\t\t60.59 %\n",
      "  validation accuracy:\t\t43.00 %\n",
      "Epoch 23 of 30 took 4.188s\n",
      "  training loss (in-iteration):\t\t3.601693\n",
      "  train accuracy:\t\t61.66 %\n",
      "  validation accuracy:\t\t40.60 %\n",
      "Epoch 24 of 30 took 4.169s\n",
      "  training loss (in-iteration):\t\t3.569888\n",
      "  train accuracy:\t\t63.17 %\n",
      "  validation accuracy:\t\t41.60 %\n",
      "Epoch 25 of 30 took 4.192s\n",
      "  training loss (in-iteration):\t\t3.539712\n",
      "  train accuracy:\t\t63.79 %\n",
      "  validation accuracy:\t\t41.00 %\n",
      "Epoch 26 of 30 took 4.172s\n",
      "  training loss (in-iteration):\t\t3.510056\n",
      "  train accuracy:\t\t64.86 %\n",
      "  validation accuracy:\t\t41.40 %\n",
      "Epoch 27 of 30 took 4.164s\n",
      "  training loss (in-iteration):\t\t3.482480\n",
      "  train accuracy:\t\t66.41 %\n",
      "  validation accuracy:\t\t40.20 %\n",
      "Epoch 28 of 30 took 4.187s\n",
      "  training loss (in-iteration):\t\t3.455721\n",
      "  train accuracy:\t\t67.69 %\n",
      "  validation accuracy:\t\t40.80 %\n",
      "Epoch 29 of 30 took 4.164s\n",
      "  training loss (in-iteration):\t\t3.428972\n",
      "  train accuracy:\t\t68.83 %\n",
      "  validation accuracy:\t\t41.20 %\n",
      "Epoch 30 of 30 took 4.173s\n",
      "  training loss (in-iteration):\t\t3.419649\n",
      "  train accuracy:\t\t68.41 %\n",
      "  validation accuracy:\t\t41.20 %\n"
     ]
    }
   ],
   "source": [
    "with open('data_basic.pkl', 'rb') as f:\n",
    "    X_train, Seg_train, y_train, X_val, Seg_val, y_val, X_test, Seg_test, y_test = pickle.load(f)\n",
    "    \n",
    "with open('features_basic.pkl', 'rb') as f:\n",
    "    f1_train, f1_val, f1_test, f2_train, f2_val, f2_test = pickle.load(f)\n",
    "    \n",
    "f1_train = np.hstack((np.array(f1_train), np.array(f2_train)))\n",
    "f1_val = np.hstack((np.array(f1_val), np.array(f2_val)))\n",
    "    \n",
    "bins = [np.percentile(y_train, 0),\n",
    "        np.percentile(y_train, 25),\n",
    "        np.percentile(y_train, 50),\n",
    "        np.percentile(y_train, 75),\n",
    "        np.percentile(y_train, 100) + 1]\n",
    "\n",
    "y_train = np.digitize(y_train, bins) - 1\n",
    "y_val = np.digitize(y_val, bins) - 1\n",
    "y_test = np.digitize(y_test, bins) - 1\n",
    "\n",
    "input_layer = InputLayer((None, f1_train[0].shape[0]))\n",
    "ll1 = DenseLayer(input_layer, num_units=4096)\n",
    "dr1 = DropoutLayer(ll1, p=0.5)\n",
    "ll2 = DenseLayer(dr1, num_units=4096)\n",
    "dr3 = DropoutLayer(ll2, p=0.5)\n",
    "percentile = DenseLayer(dr3, num_units=len(set(y_train)), nonlinearity=softmax)\n",
    "\n",
    "target_y = T.vector(\"target Y integer\", dtype='int32')\n",
    "input_X = T.matrix('X')\n",
    "\n",
    "probs = lasagne.layers.get_output(percentile, input_X, deterministic = True)\n",
    "y_predicted = np.argmax(probs, axis=1)\n",
    "\n",
    "#all network weights (shared variables)\n",
    "all_weights = lasagne.layers.get_all_params(percentile)\n",
    "print(all_weights)\n",
    "\n",
    "#Mean categorical crossentropy as a loss function - similar to logistic loss but for multiclass targets\n",
    "loss = lasagne.objectives.categorical_crossentropy(probs, target_y).mean()\n",
    "l2_penalty = regularize_layer_params(percentile, l2) * 1e-1\n",
    "l1_penalty = regularize_layer_params(percentile, l1) * 1e-2\n",
    "loss += l2_penalty + l1_penalty\n",
    "\n",
    "#prediction accuracy\n",
    "accuracy = lasagne.objectives.categorical_accuracy(probs, target_y).mean()\n",
    "\n",
    "#This function computes gradient AND composes weight updates just like you did earlier\n",
    "updates_sgd = lasagne.updates.adagrad(loss, all_weights, learning_rate=0.01)\n",
    "\n",
    "#function that computes loss and updates weights\n",
    "train_fun = theano.function([input_X, target_y], [loss, accuracy], updates = updates_sgd)\n",
    "\n",
    "#function that just computes accuracy\n",
    "accuracy_fun = theano.function([input_X, target_y],accuracy)\n",
    "\n",
    "num_epochs = 30 #amount of passes through the data\n",
    "\n",
    "batch_size = 100 #number of samples processed at each function call\n",
    "\n",
    "for epoch in range(num_epochs):\n",
    "    # In each epoch, we do a full pass over the training data:\n",
    "    train_err = 0\n",
    "    train_acc = 0\n",
    "    train_batches = 0\n",
    "    start_time = time.time()\n",
    "    for batch in iterate_minibatches(f1_train, y_train, batch_size):\n",
    "        inputs, targets = batch\n",
    "        train_err_batch, train_acc_batch = train_fun(inputs, targets.astype(np.int32))\n",
    "        train_err += train_err_batch\n",
    "        train_acc += train_acc_batch\n",
    "        train_batches += 1\n",
    "\n",
    "    # And a full pass over the validation data:\n",
    "    val_acc = 0\n",
    "    val_batches = 0\n",
    "    for batch in iterate_minibatches(f1_val, y_val, batch_size):\n",
    "        inputs, targets = batch\n",
    "        val_acc += accuracy_fun(inputs, targets.astype(np.int32))\n",
    "        val_batches += 1\n",
    "\n",
    "    \n",
    "    # Then we print the results for this epoch:\n",
    "    print(\"Epoch {} of {} took {:.3f}s\".format(\n",
    "        epoch + 1, num_epochs, time.time() - start_time))\n",
    "\n",
    "    print(\"  training loss (in-iteration):\\t\\t{:.6f}\".format(train_err / train_batches))\n",
    "    print(\"  train accuracy:\\t\\t{:.2f} %\".format(\n",
    "        train_acc / train_batches * 100))\n",
    "    print(\"  validation accuracy:\\t\\t{:.2f} %\".format(\n",
    "        val_acc / val_batches * 100))"
   ]
  },
  {
   "cell_type": "code",
   "execution_count": null,
   "metadata": {
    "collapsed": true
   },
   "outputs": [],
   "source": []
  }
 ],
 "metadata": {
  "kernelspec": {
   "display_name": "Python 2",
   "language": "python",
   "name": "python2"
  },
  "language_info": {
   "codemirror_mode": {
    "name": "ipython",
    "version": 2
   },
   "file_extension": ".py",
   "mimetype": "text/x-python",
   "name": "python",
   "nbconvert_exporter": "python",
   "pygments_lexer": "ipython2",
   "version": "2.7.5"
  }
 },
 "nbformat": 4,
 "nbformat_minor": 0
}
