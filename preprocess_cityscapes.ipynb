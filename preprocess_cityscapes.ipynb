{
 "cells": [
  {
   "cell_type": "code",
   "execution_count": null,
   "metadata": {
    "collapsed": true
   },
   "outputs": [],
   "source": [
    "### task\n",
    " - считывать картинку + ближайшую точку на соотв disparity map\n",
    "\n",
    "- выделить маску\n",
    "\n",
    "### Data description"
   ]
  },
  {
   "cell_type": "markdown",
   "metadata": {},
   "source": [
    "### Imports"
   ]
  },
  {
   "cell_type": "code",
   "execution_count": 1,
   "metadata": {
    "collapsed": true
   },
   "outputs": [],
   "source": [
    "import cv2\n",
    "import glob\n",
    "import os\n",
    "import sys\n",
    "import numpy as np\n",
    "from collections import defaultdict\n",
    "from matplotlib import pyplot as plt\n",
    "%matplotlib inline\n"
   ]
  },
  {
   "cell_type": "markdown",
   "metadata": {
    "collapsed": true
   },
   "source": [
    "#### Reading"
   ]
  },
  {
   "cell_type": "code",
   "execution_count": 3,
   "metadata": {
    "collapsed": false
   },
   "outputs": [
    {
     "name": "stdout",
     "output_type": "stream",
     "text": [
      "/home/anastasia/obj_detection/data/cityscapes/disparity\n"
     ]
    }
   ],
   "source": [
    "path_data = '/home/anastasia/obj_detection/data/cityscapes/disparity'\n",
    "print os.path.abspath(path_data)"
   ]
  },
  {
   "cell_type": "code",
   "execution_count": 4,
   "metadata": {
    "collapsed": false
   },
   "outputs": [],
   "source": [
    "# paths \n",
    "cityscapesPath = os.path.normpath(os.path.join(os.path.dirname('__file__'), '..', 'data/cityscapes'))\n",
    "img_dir = 'leftImg8bit'\n",
    "path_left_imgs = os.path.normpath(os.path.join(cityscapesPath,img_dir))\n",
    "\n",
    "# default dictionary of cities\n",
    "cities = defaultdict(list)\n",
    "modes = ['train','test','val']\n",
    "for mode in modes:\n",
    "    for (dirpath, dirnames, filenames) in os.walk(path_left_imgs+'/'+mode):\n",
    "        cities[mode] = dirnames \n",
    "        break\n",
    "\n",
    "        \n",
    "mode = 'train'\n",
    "city = 'zurich'\n",
    "\n",
    "# return list of paths to imgs for this city\n",
    "def read_imgs(mode=mode, city=city):\n",
    "    \n",
    "    # absolute path to the directory with images\n",
    "    path_imgs = os.path.normpath(os.path.join(cityscapesPath,img_dir, mode, city))\n",
    "    # list of absolute paths to images\n",
    "    imgs = glob.glob(path_imgs + '/*.png')\n",
    "    print '%s %s: number of images is' %(mode,city), len(imgs)\n",
    "    \n",
    "    return imgs\n",
    "\n",
    "# return list of paths to disparity imgs for this city\n",
    "def read_disparities(mode=mode, city=city):\n",
    "    \n",
    "    # absolute path to the directory with disparities\n",
    "    path_disp = os.path.normpath(os.path.join(cityscapesPath,'disparity', mode, city))\n",
    "    # list of absolute paths to disparities\n",
    "    disp_imgs = glob.glob(path_disp + '/*.png')\n",
    "    print '%s %s: number of disparity images is' %(mode,city), len(disp_imgs)\n",
    "    \n",
    "    return disp_imgs\n",
    "\n",
    "def find_disparity(img_path, mode=mode, city=city):\n",
    "    \n",
    "    path_disp = os.path.normpath(os.path.join(cityscapesPath,'disparity', mode, city))\n",
    "    \n",
    "    # take a tail of img path\n",
    "    img_name = os.path.split(img_path)[1]\n",
    "    # remove extention\n",
    "    img_name = os.path.splitext(img_name)[0]\n",
    "    # take img number\n",
    "    img_number = img_name[:-len(img_dir)]\n",
    "    # abs path to the corresponded disparity\n",
    "    disp_path = glob.glob(path_disp +'/'+ str(img_number)+'*')[0]\n",
    "    \n",
    "    return disp_path\n",
    "    \n",
    "def nearest_point(disp_path, mode=mode, city=city):\n",
    "    \n",
    "    disp = cv2.imread(disp_path)\n",
    "    \n",
    "    return np.min(disp[np.nonzero(disp)])"
   ]
  },
  {
   "cell_type": "markdown",
   "metadata": {},
   "source": [
    "## Test"
   ]
  },
  {
   "cell_type": "code",
   "execution_count": 5,
   "metadata": {
    "collapsed": false
   },
   "outputs": [
    {
     "name": "stdout",
     "output_type": "stream",
     "text": [
      "train zurich: number of images is 122\n",
      "train zurich: number of disparity images is 122\n",
      "zurich_000111_000019_\n",
      "119\n"
     ]
    }
   ],
   "source": [
    "imgs = read_imgs()\n",
    "disp_imgs = read_disparities()\n",
    "\n",
    "filename = os.path.split(imgs[0])[1]\n",
    "name = os.path.splitext(filename)[0][:-len(img_dir)]\n",
    "print name\n",
    "\n",
    "disp = cv2.imread(find_disparity(imgs[0]))\n",
    "print np.max(disp[np.nonzero(disp)])"
   ]
  },
  {
   "cell_type": "code",
   "execution_count": null,
   "metadata": {
    "collapsed": true
   },
   "outputs": [],
   "source": []
  },
  {
   "cell_type": "code",
   "execution_count": null,
   "metadata": {
    "collapsed": true
   },
   "outputs": [],
   "source": []
  }
 ],
 "metadata": {
  "kernelspec": {
   "display_name": "Python 2",
   "language": "python",
   "name": "python2"
  },
  "language_info": {
   "codemirror_mode": {
    "name": "ipython",
    "version": 2
   },
   "file_extension": ".py",
   "mimetype": "text/x-python",
   "name": "python",
   "nbconvert_exporter": "python",
   "pygments_lexer": "ipython2",
   "version": "2.7.6"
  }
 },
 "nbformat": 4,
 "nbformat_minor": 0
}
