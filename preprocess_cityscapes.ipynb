{
 "cells": [
  {
   "cell_type": "code",
   "execution_count": 1,
   "metadata": {
    "collapsed": true
   },
   "outputs": [],
   "source": [
    "# ### task\n",
    "#  - считывать картинку + ближайшую точку на соотв disparity map\n",
    "\n",
    "# - выделить маску\n",
    "\n",
    "# ### Data description"
   ]
  },
  {
   "cell_type": "markdown",
   "metadata": {},
   "source": [
    "### Imports"
   ]
  },
  {
   "cell_type": "code",
   "execution_count": 1,
   "metadata": {
    "collapsed": true
   },
   "outputs": [],
   "source": [
    "import cv2\n",
    "import glob\n",
    "import os\n",
    "import sys\n",
    "import numpy as np\n",
    "from collections import defaultdict\n",
    "from matplotlib import pyplot as plt\n",
    "%matplotlib inline\n"
   ]
  },
  {
   "cell_type": "code",
   "execution_count": 2,
   "metadata": {
    "collapsed": true
   },
   "outputs": [],
   "source": [
    "%load_ext autoreload\n",
    "%autoreload 2"
   ]
  },
  {
   "cell_type": "markdown",
   "metadata": {
    "collapsed": true
   },
   "source": [
    "#### Reading"
   ]
  },
  {
   "cell_type": "code",
   "execution_count": 3,
   "metadata": {
    "collapsed": false
   },
   "outputs": [
    {
     "name": "stdout",
     "output_type": "stream",
     "text": [
      "/home/anastasia/obj_detection/data/cityscapes/disparity\n"
     ]
    }
   ],
   "source": [
    "path_data = '/home/anastasia/obj_detection/data/cityscapes/disparity'\n",
    "print os.path.abspath(path_data)"
   ]
  },
  {
   "cell_type": "code",
   "execution_count": 15,
   "metadata": {
    "collapsed": false
   },
   "outputs": [],
   "source": [
    "# paths \n",
    "cityscapesPath = os.path.normpath(os.path.join(os.path.dirname('__file__'), '..', 'data/cityscapes'))\n",
    "img_dir = 'leftImg8bit'\n",
    "path_left_imgs = os.path.normpath(os.path.join(cityscapesPath,img_dir))\n",
    "\n",
    "# default dictionary of cities\n",
    "cities = defaultdict(list)\n",
    "modes = ['train','test','val']\n",
    "for mode in modes:\n",
    "    for (dirpath, dirnames, filenames) in os.walk(path_left_imgs+'/'+mode):\n",
    "        cities[mode] = dirnames \n",
    "        break\n",
    "        \n",
    "mode = 'train'\n",
    "city = 'zurich'\n",
    "\n",
    "\n",
    "# returns list of paths to imgs for this city\n",
    "def read_imgs(mode=mode, city=city):\n",
    "    \n",
    "    # absolute path to the directory with images\n",
    "    path_imgs = os.path.normpath(os.path.join(cityscapesPath,img_dir, mode, city))\n",
    "    # list of absolute paths to images\n",
    "    imgs = glob.glob(path_imgs + '/*.png')\n",
    "    imgs.sort()\n",
    "    \n",
    "    print 'read_imgs.','%s %s: number of images is' %(mode,city), len(imgs)\n",
    "    \n",
    "    return imgs\n",
    "\n",
    "\n",
    "# returns list of paths to disparity imgs for this city\n",
    "def read_disparities(mode=mode, city=city):\n",
    "    \n",
    "    # absolute path to the directory with disparities\n",
    "    path_disp = os.path.normpath(os.path.join(cityscapesPath,'disparity', mode, city))\n",
    "    # list of absolute paths to disparities\n",
    "    disp_imgs = glob.glob(path_disp + '/*.png')\n",
    "    disp_imgs.sort()\n",
    "    \n",
    "    print 'read_disparities.', '%s %s: number of disparity images is' %(mode,city), len(disp_imgs)\n",
    "    \n",
    "    \n",
    "    return disp_imgs\n",
    "\n",
    "\n",
    "def find_disparity(img_path, mode=mode, city=city):\n",
    "    \n",
    "    path_disp = os.path.normpath(os.path.join(cityscapesPath,'disparity', mode, city))\n",
    "    \n",
    "    # take a tail of img path\n",
    "    img_name = os.path.split(img_path)[1]\n",
    "    # remove extention\n",
    "    img_name = os.path.splitext(img_name)[0]\n",
    "    # take img number\n",
    "    img_number = img_name[:-len(img_dir)]\n",
    "    # abs path to the corresponded disparity\n",
    "    disp_path = glob.glob(path_disp +'/'+ str(img_number)+'*')[0]\n",
    "    \n",
    "    return disp_path\n",
    "    \n",
    "def max_disp(disp_path, mode=mode, city=city):\n",
    "    \n",
    "    disp = cv2.imread(disp_path)\n",
    "    \n",
    "    return np.max(disp[np.nonzero(disp)])\n",
    "\n"
   ]
  },
  {
   "cell_type": "markdown",
   "metadata": {},
   "source": [
    "## Test"
   ]
  },
  {
   "cell_type": "code",
   "execution_count": 16,
   "metadata": {
    "collapsed": false,
    "scrolled": true
   },
   "outputs": [
    {
     "name": "stdout",
     "output_type": "stream",
     "text": [
      "read_imgs. train zurich: number of images is 122\n",
      "read_disparities. train zurich: number of disparity images is 122\n",
      "../data/cityscapes/disparity/train/zurich/zurich_000000_000019_disparity.png\n",
      "zurich_000000_000019_\n",
      "116\n"
     ]
    }
   ],
   "source": [
    "imgs = read_imgs()\n",
    "disp_imgs = read_disparities()\n",
    "\n",
    "\n",
    "\n",
    "print disp_imgs[0]\n",
    "\n",
    "filename = os.path.split(imgs[0])[1]\n",
    "name = os.path.splitext(filename)[0][:-len(img_dir)]\n",
    "print name\n",
    "\n",
    "disp = cv2.imread(find_disparity(imgs[0]))\n",
    "print np.max(disp[np.nonzero(disp)])"
   ]
  },
  {
   "cell_type": "code",
   "execution_count": 17,
   "metadata": {
    "collapsed": false
   },
   "outputs": [
    {
     "name": "stdout",
     "output_type": "stream",
     "text": [
      "../data/cityscapes/disparity/train/zurich/zurich_000000_000019_disparity.png\n",
      "../data/cityscapes/leftImg8bit/train/zurich/zurich_000000_000019_leftImg8bit.png\n",
      "116\n"
     ]
    },
    {
     "data": {
      "text/plain": [
       "<matplotlib.image.AxesImage at 0x7fa6a2fae0d0>"
      ]
     },
     "execution_count": 17,
     "metadata": {},
     "output_type": "execute_result"
    },
    {
     "data": {
      "image/png": "[encoded data removed]",
      "text/plain": [
       "<matplotlib.figure.Figure at 0x7fa6a5e6d110>"
      ]
     },
     "metadata": {},
     "output_type": "display_data"
    }
   ],
   "source": [
    "print disp_imgs[0]\n",
    "print imgs[0]\n",
    "disp = cv2.imread(disp_imgs[0])\n",
    "print disp.max()\n",
    "plt.imshow(disp)"
   ]
  },
  {
   "cell_type": "code",
   "execution_count": 62,
   "metadata": {
    "collapsed": false
   },
   "outputs": [
    {
     "name": "stdout",
     "output_type": "stream",
     "text": [
      "111\n"
     ]
    },
    {
     "data": {
      "text/plain": [
       "<matplotlib.image.AxesImage at 0x7fa9844cd650>"
      ]
     },
     "execution_count": 62,
     "metadata": {},
     "output_type": "execute_result"
    },
    {
     "data": {
      "image/png": "[encoded data removed]",
      "text/plain": [
       "<matplotlib.figure.Figure at 0x7fa9844cde50>"
      ]
     },
     "metadata": {},
     "output_type": "display_data"
    }
   ],
   "source": [
    "res = disp.copy()\n",
    "res[disp < np.percentile(disp, 90)] = 0\n",
    "print disp.max()\n",
    "plt.imshow(res)"
   ]
  },
  {
   "cell_type": "code",
   "execution_count": null,
   "metadata": {
    "collapsed": true
   },
   "outputs": [],
   "source": []
  },
  {
   "cell_type": "code",
   "execution_count": 46,
   "metadata": {
    "collapsed": false
   },
   "outputs": [
    {
     "name": "stdout",
     "output_type": "stream",
     "text": [
      "221\n"
     ]
    }
   ],
   "source": [
    "max_disps = []\n",
    "print len(disp_imgs)\n",
    "for i in range (len(disp_imgs)):\n",
    "    max_disps.append(max_disp(disp_imgs[i]))\n"
   ]
  },
  {
   "cell_type": "code",
   "execution_count": 47,
   "metadata": {
    "collapsed": false
   },
   "outputs": [
    {
     "data": {
      "text/plain": [
       "(array([   1.,    1.,    1.,    0.,    0.,    1.,    2.,    0.,    1.,\n",
       "           1.,    1.,    2.,    4.,    3.,    1.,    3.,    4.,    5.,\n",
       "           9.,    7.,   13.,    8.,   15.,   16.,  122.]),\n",
       " array([  97.  ,   98.16,   99.32,  100.48,  101.64,  102.8 ,  103.96,\n",
       "         105.12,  106.28,  107.44,  108.6 ,  109.76,  110.92,  112.08,\n",
       "         113.24,  114.4 ,  115.56,  116.72,  117.88,  119.04,  120.2 ,\n",
       "         121.36,  122.52,  123.68,  124.84,  126.  ]),\n",
       " <a list of 25 Patch objects>)"
      ]
     },
     "execution_count": 47,
     "metadata": {},
     "output_type": "execute_result"
    },
    {
     "data": {
      "image/png": "[encoded data removed]",
      "text/plain": [
       "<matplotlib.figure.Figure at 0x7fa98c217550>"
      ]
     },
     "metadata": {},
     "output_type": "display_data"
    }
   ],
   "source": [
    "plt.hist(max_disps, bins=25)"
   ]
  },
  {
   "cell_type": "code",
   "execution_count": null,
   "metadata": {
    "collapsed": true
   },
   "outputs": [],
   "source": []
  }
 ],
 "metadata": {
  "kernelspec": {
   "display_name": "Python 2",
   "language": "python",
   "name": "python2"
  },
  "language_info": {
   "codemirror_mode": {
    "name": "ipython",
    "version": 2
   },
   "file_extension": ".py",
   "mimetype": "text/x-python",
   "name": "python",
   "nbconvert_exporter": "python",
   "pygments_lexer": "ipython2",
   "version": "2.7.6"
  }
 },
 "nbformat": 4,
 "nbformat_minor": 0
}
